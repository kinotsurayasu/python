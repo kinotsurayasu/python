{
 "cells": [
  {
   "cell_type": "markdown",
   "metadata": {},
   "source": [
    "二項分布は、最も典型的な離散型確率分布。ベルヌーイ試行ともいう。\n",
    "\n",
    "数式は、"
   ]
  },
  {
   "cell_type": "markdown",
   "metadata": {},
   "source": [
    "$\\begin{eqnarray}\n",
    "{\\it f}(x)\n",
    "\\end{eqnarray}=nCrP^n(1‐P)^{n-r}$"
   ]
  },
  {
   "cell_type": "markdown",
   "metadata": {},
   "source": [
    "\n",
    "\n",
    "\n"
   ]
  },
  {
   "cell_type": "markdown",
   "metadata": {},
   "source": [
    "二項分布の平均・分散・標準偏差\n",
    "\n",
    "平均：$\\mu=np$\n",
    "\n",
    "分散：$\\sigma^2=np(1-p)$\n",
    "\n",
    "標準偏差：$\\sigma=\\sqrt{np(1-p)}$"
   ]
  },
  {
   "cell_type": "markdown",
   "metadata": {},
   "source": [
    "$_{100} C _{10}*0.9^{10}*0.1^{100-10}$"
   ]
  },
  {
   "cell_type": "markdown",
   "metadata": {},
   "source": [
    "標準化:  ${\\rm z} = \\frac{x-\\mu}{\\sigma}$"
   ]
  },
  {
   "cell_type": "markdown",
   "metadata": {},
   "source": [
    "※標準化した値のことを「標準化係数」「標準正規変数」という。"
   ]
  },
  {
   "cell_type": "markdown",
   "metadata": {},
   "source": [
    "変数${x}$は、平均$\\mu$で分散が$\\sigma^2$の正規分布するというのは、\n",
    "\n",
    "${x:N(\\mu,\\sigma^2)}$\n",
    "\n",
    "で表現される。"
   ]
  },
  {
   "cell_type": "markdown",
   "metadata": {},
   "source": [
    "元データ$x$がある値$A$以下になる確率\n",
    "\n",
    "$P(x \\leqq A)$"
   ]
  },
  {
   "cell_type": "markdown",
   "metadata": {
    "collapsed": true
   },
   "source": [
    "ポアソン分布\n",
    "\n",
    "$\\begin{eqnarray}\n",
    "{\\it f}(x)\n",
    "\\end{eqnarray}=\\frac{e^{-\\mu}\\mu^x}{x!}\n",
    "$"
   ]
  },
  {
   "cell_type": "markdown",
   "metadata": {
    "collapsed": true
   },
   "source": [
    "指数関数 $\\begin{eqnarray}\n",
    "{\\it f}(x)\\end のことを expx と表記する"
   ]
  },
  {
   "cell_type": "code",
   "execution_count": 4,
   "metadata": {
    "collapsed": false
   },
   "outputs": [
    {
     "data": {
      "text/plain": [
       "[<matplotlib.lines.Line2D at 0x264bea615f8>]"
      ]
     },
     "execution_count": 4,
     "metadata": {},
     "output_type": "execute_result"
    },
    {
     "data": {
      "image/png": "[encoded data removed]",
      "text/plain": [
       "<matplotlib.figure.Figure at 0x264bc716da0>"
      ]
     },
     "metadata": {},
     "output_type": "display_data"
    }
   ],
   "source": [
    "import matplotlib as mpl\n",
    "import matplotlib.pyplot as plt\n",
    "import numpy as np\n",
    "%matplotlib inline\n",
    "\n",
    "# statsライブラリをImportします。\n",
    "from scipy import stats\n",
    "\n",
    "# 平均を0\n",
    "mean = 0\n",
    "\n",
    "# 標準偏差を1にしてみましょう。\n",
    "std = 1\n",
    "\n",
    "# 便宜的に領域を決めます。\n",
    "X = np.arange(-4,4,0.01)\n",
    "\n",
    "# 値を計算します。\n",
    "Y = stats.norm.pdf(X,mean,std)\n",
    "\n",
    "plt.plot(X,Y)"
   ]
  },
  {
   "cell_type": "code",
   "execution_count": 4,
   "metadata": {
    "collapsed": false
   },
   "outputs": [
    {
     "data": {
      "text/plain": [
       "0.24197072451914337"
      ]
     },
     "execution_count": 4,
     "metadata": {},
     "output_type": "execute_result"
    }
   ],
   "source": [
    "from scipy.stats import norm \n",
    "\n",
    "norm.pdf(x=1.0, loc=0, scale=1)"
   ]
  },
  {
   "cell_type": "markdown",
   "metadata": {},
   "source": [
    "### ● cdf (Cumulative density function) 累積分布関数\n",
    "\n",
    "$P \\geqq z$ "
   ]
  },
  {
   "cell_type": "markdown",
   "metadata": {},
   "source": [
    "期待値loc，標準偏差scale、正規分布の確率密度関数のx"
   ]
  },
  {
   "cell_type": "code",
   "execution_count": 2,
   "metadata": {
    "collapsed": false
   },
   "outputs": [
    {
     "ename": "NameError",
     "evalue": "name 'norm' is not defined",
     "output_type": "error",
     "traceback": [
      "\u001b[1;31m---------------------------------------------------------------------------\u001b[0m",
      "\u001b[1;31mNameError\u001b[0m                                 Traceback (most recent call last)",
      "\u001b[1;32m<ipython-input-2-ce786834f64e>\u001b[0m in \u001b[0;36m<module>\u001b[1;34m()\u001b[0m\n\u001b[1;32m----> 1\u001b[1;33m \u001b[0mnorm\u001b[0m\u001b[1;33m.\u001b[0m\u001b[0mcdf\u001b[0m\u001b[1;33m(\u001b[0m\u001b[0mx\u001b[0m\u001b[1;33m=\u001b[0m\u001b[1;36m1.0\u001b[0m\u001b[1;33m,\u001b[0m \u001b[0mloc\u001b[0m\u001b[1;33m=\u001b[0m\u001b[1;36m0\u001b[0m\u001b[1;33m,\u001b[0m \u001b[0mscale\u001b[0m\u001b[1;33m=\u001b[0m\u001b[1;36m1\u001b[0m\u001b[1;33m)\u001b[0m\u001b[1;33m\u001b[0m\u001b[0m\n\u001b[0m",
      "\u001b[1;31mNameError\u001b[0m: name 'norm' is not defined"
     ]
    }
   ],
   "source": [
    "norm.cdf(x=1.0, loc=0, scale=1)"
   ]
  },
  {
   "cell_type": "markdown",
   "metadata": {},
   "source": [
    "### ● sf (Survival function) 生存関数\n",
    "$P \\leqq z$ "
   ]
  },
  {
   "cell_type": "code",
   "execution_count": 3,
   "metadata": {
    "collapsed": false
   },
   "outputs": [
    {
     "ename": "NameError",
     "evalue": "name 'norm' is not defined",
     "output_type": "error",
     "traceback": [
      "\u001b[1;31m---------------------------------------------------------------------------\u001b[0m",
      "\u001b[1;31mNameError\u001b[0m                                 Traceback (most recent call last)",
      "\u001b[1;32m<ipython-input-3-9084497a07f7>\u001b[0m in \u001b[0;36m<module>\u001b[1;34m()\u001b[0m\n\u001b[1;32m----> 1\u001b[1;33m \u001b[0mnorm\u001b[0m\u001b[1;33m.\u001b[0m\u001b[0msf\u001b[0m\u001b[1;33m(\u001b[0m\u001b[0mx\u001b[0m\u001b[1;33m=\u001b[0m\u001b[1;36m1.0\u001b[0m\u001b[1;33m,\u001b[0m \u001b[0mloc\u001b[0m\u001b[1;33m=\u001b[0m\u001b[1;36m0\u001b[0m\u001b[1;33m,\u001b[0m \u001b[0mscale\u001b[0m\u001b[1;33m=\u001b[0m\u001b[1;36m1\u001b[0m\u001b[1;33m)\u001b[0m\u001b[1;33m\u001b[0m\u001b[0m\n\u001b[0m",
      "\u001b[1;31mNameError\u001b[0m: name 'norm' is not defined"
     ]
    }
   ],
   "source": [
    "norm.sf(x=1.0, loc=0, scale=1)"
   ]
  },
  {
   "cell_type": "markdown",
   "metadata": {},
   "source": [
    "※参考URL\n",
    "\n",
    "http://kaisk.hatenadiary.com/entry/2015/02/17/192955"
   ]
  },
  {
   "cell_type": "markdown",
   "metadata": {
    "collapsed": true
   },
   "source": [
    "離散型の確率分布の場合、確率と確率密度は同じ。\n",
    "\n",
    "連続型の確率分布の場合、xはあらゆる値について高さを測ることができる。そのため、xがある一定の幅をとる場合、斜線の面積が確率となる。"
   ]
  },
  {
   "cell_type": "markdown",
   "metadata": {},
   "source": [
    "### ● 確率変数の平均について"
   ]
  },
  {
   "cell_type": "markdown",
   "metadata": {},
   "source": [
    "平均の算出方法は、2つ。\n",
    "(1)「値の合計÷個数」\n",
    "(2)「値×相対度数の合計」\n",
    "下記のような身長の分布があったとする。\n",
    "\n",
    "「150、160、150、160、170、150」\n",
    "\n",
    "平均は「合計÷個数」なので、940/6=156.7\n",
    "\n",
    "相対度数に直すと、\n",
    "\n",
    "150→3/6\n",
    "\n",
    "160→2/6\n",
    "\n",
    "170→1/6"
   ]
  },
  {
   "cell_type": "markdown",
   "metadata": {},
   "source": [
    "▼じゃあ、サイコロの出る目の平均は何か？\n",
    "\n",
    "これも2通りの方法で算出できる。\n",
    "\n",
    "1→1/6\n",
    "\n",
    "2→1/6\n",
    "\n",
    "3→1/6\n",
    "\n",
    "4→1/6\n",
    "\n",
    "5→1/6\n",
    "\n",
    "6→1/6\n",
    "\n",
    "(1)「値の合計÷個数」→21/6=3.5\n",
    "(2)「値×相対度数の合計」=（1×1/6＋2×1/6＋3×1/6＋4×1/6＋5×1/6＋6×1/6）=3.5"
   ]
  },
  {
   "cell_type": "markdown",
   "metadata": {},
   "source": [
    "▼じゃあ、サイコロを2回振った時の出る目の平均は何か？\n",
    "\n",
    "1→1/36\n",
    "\n",
    "1.5→2/36\n",
    "\n",
    "2→3/36\n",
    "\n",
    "...\n",
    "\n",
    "これの出る目も3.5になる。\n",
    "\n",
    "しかも、3.5の出る確率が高くなる。\n",
    "\n",
    "一方で、1回振った場合の3.5が出る確率は、3が1回、4が1回と母平均に近い値が同じだけ出る。\n",
    "\n",
    "▼ここから何が言える？\n",
    "\n",
    "サイコロの出る目の母平均は、3.5\n",
    "\n",
    "サイコロを1回振った場合の標本平均は、3.5。3.5が出る確率はなし。\n",
    "\n",
    "サイコロ2回を振った場合の標本平均は、3.5。3.5が出る確率が一番大きくなる。\n",
    "\n",
    "▼\n",
    "\n",
    "1つの母集団からn個のデータを観測しその標本平均$\\overline{X}$を作る。この時、nが大きければ大きいほど、標本平均は母平均$\\mu$に近い値をとる可能性が高くなる。\n",
    "\n",
    "これを大数の法則。"
   ]
  },
  {
   "cell_type": "markdown",
   "metadata": {
    "collapsed": true
   },
   "source": [
    "### ● 標準化って何なの？"
   ]
  },
  {
   "cell_type": "markdown",
   "metadata": {},
   "source": [
    "$x$：N(160,$10^2$)\n",
    "\n",
    "180センチの人を標準化すると、+2になる。\n",
    "\n",
    "※余談\n",
    "\n",
    "標準化は正規分布しているのであれば使えるのであって、そうじゃないものには使えない。\n",
    "\n",
    "つまり、一般正規分布しているものを標準正規分布に直すことを、標準化という。\n",
    "\n",
    "標準化をすると、平均と標準偏差がどんな値だったとしても、$x$：N(0,$1^2$)となる。\n",
    "\n",
    "▼　標準化したらどうなるの？\n",
    "\n",
    "標準化するというのは、標準正規分布に戻すということになる。\n",
    "\n",
    "標準正規分布は、どのような値がどのぐらいの確率になるかというのがわかっている。\n",
    "\n",
    "つまり、180センチの人を標準化すると、どのぐらいの確率で180センチの人がサンプリングされるかわかる。\n",
    "\n",
    "連続型の場合は、階級値の面積で確率がわかる。\n",
    "\n",
    "▼\n",
    "\n",
    "標準化されたら統計数値表から、その値以上、その値以下の確率が全部出ている。\n",
    "\n",
    "なので、+2の確率もわかるし、+2以上の確率もわかるし、+2以下の確率もわかる。\n",
    "\n",
    "▼\n",
    "\n",
    "つまり、母集団の平均と標準偏差がわかれば、ある値が出る確率、ある値以上の確率、ある値以下の確率が算出できる。\n"
   ]
  },
  {
   "cell_type": "markdown",
   "metadata": {},
   "source": [
    "▼　ある値以上の確率を求めなさいという場合の手順\n",
    "\n",
    "平均と標準偏差がわかっていれば、標準化係数がわかる。\n",
    "\n",
    "例えば、$x$：N(160,$10^2$)の場合の180cmの人の標準化係数は+2になる。\n",
    "\n",
    "つまり、$z$=2となる。\n",
    "\n",
    "統計数値表をみて、$z \\geqq 2$の確率を求めればいい。 \n",
    "\n",
    "※1　標準化係数の$z$=2の確率というのは存在しない。\n",
    "\n",
    "※2　$P$$(z \\geqq 2)$というのは、標準化係数が2以上の確率という意味。"
   ]
  },
  {
   "cell_type": "markdown",
   "metadata": {},
   "source": [
    "▼例題１\n",
    "\n",
    "100個作ったら5個不良品が出て、標準偏差は2。\n",
    "\n",
    "不良品が9以上出る確率。"
   ]
  },
  {
   "cell_type": "markdown",
   "metadata": {},
   "source": [
    "### ▼ 雑記"
   ]
  },
  {
   "cell_type": "markdown",
   "metadata": {},
   "source": [
    "・統計的に有意であるとは「滅多に怒らないほど大きい」という意味。つまり、zの値が極端に大きいか小さいか。\n",
    "\n",
    "・反対に、有意でないとは「普通によくある」という意味。つまり、zの値も普通になる。\n",
    "\n",
    "・有意である→滅多に起きない\n",
    "\n",
    "・有意でない→よく起こる\n",
    "\n",
    "・よく起こる確率のことを「信頼係数」という。\n",
    "\n",
    "・境界値のことを「信頼限界」\n",
    "\n",
    "・大きい法の信頼限界のことを「上方信頼限界」、小さい方のそれを「下方信頼限界」、これらの間のことを「信頼区画」という。\n",
    "\n",
    "・信頼係数の裏返しで、滅多に起こらないことが起こることを「有意水準」という\n",
    "\n",
    "・信頼係数は、推定に使う用語で、有意水準は、検定に使う用語。\n",
    "\n",
    "・「$z \\geqq A$」とは、信頼限界Aが標準正規変数より大きくなる確率\n",
    "\n",
    "・「$z \\leqq -2$」は統計数値表にはない。だけど、標準正規分布は左右非対称なので、「$z \\geqq 2$」と同じ。なので、この確率なら統計数字表から求められる。\n",
    "\n",
    "・"
   ]
  },
  {
   "cell_type": "markdown",
   "metadata": {},
   "source": [
    "### ● 母平均の推定"
   ]
  },
  {
   "cell_type": "markdown",
   "metadata": {},
   "source": [
    "(1)標本をnとって、平均をとる（標本平均）。母集団が正規分布じゃなくても、nが大きくなれば、正規分布に近づく。\n",
    "\n",
    "(2)それは、サイコロを2回振って、出た目の平均を取ったときのことを考える。一様分布だったのにも関わらず、正規分布に近づく。\n",
    "\n",
    "(3)サイコロを10回ふると、もっと滑らかの正規分布になる。"
   ]
  },
  {
   "cell_type": "markdown",
   "metadata": {},
   "source": [
    "▼　具体例\n",
    "\n",
    "150\t150\t160\t160\t170\t170の6人がいる。\n",
    "\n",
    "2人を取り出して平均をとるとどうなるか？\n",
    "\n",
    "150→4\n",
    "155→8\n",
    "160→12\n",
    "165→8\n",
    "170→4\n",
    "\n",
    "となる。\n",
    "\n",
    "標本平均は、160となる。"
   ]
  },
  {
   "cell_type": "markdown",
   "metadata": {
    "collapsed": true
   },
   "source": [
    "### ▼ 中心極限定理って何に使えるの？"
   ]
  },
  {
   "cell_type": "markdown",
   "metadata": {},
   "source": [
    "標本をとって、平均をとる。その標本平均の出る確率は、標本の数が多くなればなるほど正規分布に近づく。\n",
    "\n",
    "これが中心極限定理。\n",
    "\n",
    "この定理を使えば、標本平均を標準化してあげれば、標準正規分布になる。\n",
    "\n",
    "標準正規分布は、zのときの確率がわかっているので色々な値を求めることができる。"
   ]
  },
  {
   "cell_type": "code",
   "execution_count": null,
   "metadata": {
    "collapsed": true
   },
   "outputs": [],
   "source": []
  }
 ],
 "metadata": {
  "kernelspec": {
   "display_name": "Python 2",
   "language": "python",
   "name": "python2"
  },
  "language_info": {
   "codemirror_mode": {
    "name": "ipython",
    "version": 2
   },
   "file_extension": ".py",
   "mimetype": "text/x-python",
   "name": "python",
   "nbconvert_exporter": "python",
   "pygments_lexer": "ipython2",
   "version": "2.7.11"
  }
 },
 "nbformat": 4,
 "nbformat_minor": 0
}
