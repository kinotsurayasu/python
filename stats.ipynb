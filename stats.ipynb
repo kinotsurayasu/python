{
 "cells": [
  {
   "cell_type": "markdown",
   "metadata": {},
   "source": [
    "二項分布は、最も典型的な離散型確率分布。ベルヌーイ試行ともいう。\n",
    "\n",
    "数式は、"
   ]
  },
  {
   "cell_type": "markdown",
   "metadata": {},
   "source": [
    "$\\begin{eqnarray}\n",
    "{\\it f}(x)\n",
    "\\end{eqnarray}=_{n} C _{r}P^n(1‐P)^{n-r}$"
   ]
  },
  {
   "cell_type": "markdown",
   "metadata": {},
   "source": [
    "\n",
    "\n",
    "\n"
   ]
  },
  {
   "cell_type": "markdown",
   "metadata": {},
   "source": [
    "二項分布の平均・分散・標準偏差\n",
    "\n",
    "平均：$\\mu=np$\n",
    "\n",
    "分散：$\\sigma^2=np(1-p)$\n",
    "\n",
    "標準偏差：$\\sigma=\\sqrt{np(1-p)}$"
   ]
  },
  {
   "cell_type": "markdown",
   "metadata": {},
   "source": [
    "$_{100} C _{10}*0.9^{10}*0.1^{100-10}$"
   ]
  },
  {
   "cell_type": "markdown",
   "metadata": {},
   "source": [
    "標準化:  ${\\rm z} = \\frac{x-\\mu}{\\sigma}$"
   ]
  },
  {
   "cell_type": "markdown",
   "metadata": {},
   "source": [
    "※標準化した値のことを「標準化係数」という。"
   ]
  },
  {
   "cell_type": "markdown",
   "metadata": {},
   "source": [
    "変数${x}$は、平均$\\mu$で分散が$\\sigma^2$の正規分布するというのは、\n",
    "\n",
    "${x:N(\\mu,\\sigma^2)}$\n",
    "\n",
    "で表現される。"
   ]
  },
  {
   "cell_type": "markdown",
   "metadata": {},
   "source": [
    "元データ$x$がある値$A$以下になる確率\n",
    "\n",
    "$P(x \\leqq A)$"
   ]
  },
  {
   "cell_type": "markdown",
   "metadata": {
    "collapsed": true
   },
   "source": [
    "ポアソン分布\n",
    "\n",
    "$\\begin{eqnarray}\n",
    "{\\it f}(x)\n",
    "\\end{eqnarray}=\\frac{e^{-\\mu}\\mu^x}{x!}\n",
    "$"
   ]
  },
  {
   "cell_type": "markdown",
   "metadata": {
    "collapsed": true
   },
   "source": [
    "指数関数 $\\begin{eqnarray}\n",
    "{\\it f}(x)\\end のことを expx と表記する"
   ]
  },
  {
   "cell_type": "code",
   "execution_count": 2,
   "metadata": {
    "collapsed": false
   },
   "outputs": [
    {
     "data": {
      "text/plain": [
       "[<matplotlib.lines.Line2D at 0x7f03828>]"
      ]
     },
     "execution_count": 2,
     "metadata": {},
     "output_type": "execute_result"
    },
    {
     "data": {
      "image/png": "[encoded data removed]",
      "text/plain": [
       "<matplotlib.figure.Figure at 0x7e1f320>"
      ]
     },
     "metadata": {},
     "output_type": "display_data"
    }
   ],
   "source": [
    "import matplotlib as mpl\n",
    "import matplotlib.pyplot as plt\n",
    "import numpy as np\n",
    "%matplotlib inline\n",
    "\n",
    "# statsライブラリをImportします。\n",
    "from scipy import stats\n",
    "\n",
    "# 平均を0\n",
    "mean = 0\n",
    "\n",
    "# 標準偏差を1にしてみましょう。\n",
    "std = 1\n",
    "\n",
    "# 便宜的に領域を決めます。\n",
    "X = np.arange(-4,4,0.01)\n",
    "\n",
    "# 値を計算します。\n",
    "Y = stats.norm.pdf(X,mean,std)\n",
    "\n",
    "plt.plot(X,Y)"
   ]
  },
  {
   "cell_type": "code",
   "execution_count": 4,
   "metadata": {
    "collapsed": false
   },
   "outputs": [
    {
     "data": {
      "text/plain": [
       "0.24197072451914337"
      ]
     },
     "execution_count": 4,
     "metadata": {},
     "output_type": "execute_result"
    }
   ],
   "source": [
    "from scipy.stats import norm \n",
    "\n",
    "norm.pdf(x=1.0, loc=0, scale=1)"
   ]
  },
  {
   "cell_type": "markdown",
   "metadata": {},
   "source": [
    "### ▼ cdf (Cumulative density function) 累積分布関数\n",
    "\n",
    "$P \\geqq z$ "
   ]
  },
  {
   "cell_type": "markdown",
   "metadata": {},
   "source": [
    "期待値loc，標準偏差scale、正規分布の確率密度関数のx"
   ]
  },
  {
   "cell_type": "code",
   "execution_count": 11,
   "metadata": {
    "collapsed": false
   },
   "outputs": [
    {
     "data": {
      "text/plain": [
       "0.84134474606854293"
      ]
     },
     "execution_count": 11,
     "metadata": {},
     "output_type": "execute_result"
    }
   ],
   "source": [
    "norm.cdf(x=1.0, loc=0, scale=1)"
   ]
  },
  {
   "cell_type": "markdown",
   "metadata": {},
   "source": [
    "### ▼ sf (Survival function) 生存関数\n",
    "$P \\leqq z$ "
   ]
  },
  {
   "cell_type": "code",
   "execution_count": 12,
   "metadata": {
    "collapsed": false
   },
   "outputs": [
    {
     "data": {
      "text/plain": [
       "0.15865525393145707"
      ]
     },
     "execution_count": 12,
     "metadata": {},
     "output_type": "execute_result"
    }
   ],
   "source": [
    "norm.sf(x=1.0, loc=0, scale=1)"
   ]
  },
  {
   "cell_type": "markdown",
   "metadata": {},
   "source": [
    "※参考URL\n",
    "\n",
    "http://kaisk.hatenadiary.com/entry/2015/02/17/192955"
   ]
  },
  {
   "cell_type": "markdown",
   "metadata": {
    "collapsed": true
   },
   "source": [
    "離散型の確率分布の場合、確率と確率密度は同じ。\n",
    "\n",
    "連続型の確率分布の場合、xはあらゆる値について高さをはあkることができる。そのため、xがある一定の幅をとる場合、斜線の面積が確率となる。"
   ]
  },
  {
   "cell_type": "markdown",
   "metadata": {},
   "source": [
    "### ▼ 確率変数の平均について"
   ]
  },
  {
   "cell_type": "markdown",
   "metadata": {},
   "source": [
    "平均の算出方法は、2つ。\n",
    "(1)「値の合計÷個数」\n",
    "(2)「値×相対度数の合計」\n",
    "下記のような身長の分布があったとする。\n",
    "\n",
    "「150、160、150、160、170、150」\n",
    "\n",
    "平均は「合計÷個数」なので、940/6=156.7\n",
    "\n",
    "相対度数に直すと、\n",
    "\n",
    "150→3/6\n",
    "\n",
    "160→2/6\n",
    "\n",
    "170→1/6"
   ]
  },
  {
   "cell_type": "markdown",
   "metadata": {},
   "source": [
    "▼じゃあ、サイコロの出る目の平均は何か？\n",
    "\n",
    "これも2通りの方法で算出できる。\n",
    "\n",
    "1→1/6\n",
    "\n",
    "2→1/6\n",
    "\n",
    "3→1/6\n",
    "\n",
    "4→1/6\n",
    "\n",
    "5→1/6\n",
    "\n",
    "6→1/6\n",
    "\n",
    "(1)「値の合計÷個数」→21/6=3.5\n",
    "(2)「値×相対度数の合計」=（1×1/6＋2×1/6＋3×1/6＋4×1/6＋5×1/6＋6×1/6）=3.5"
   ]
  },
  {
   "cell_type": "markdown",
   "metadata": {},
   "source": [
    "▼じゃあ、サイコロを2回振った時の出る目の平均は何か？\n",
    "\n",
    "1→1/36\n",
    "\n",
    "1.5→2/36\n",
    "\n",
    "2→3/36\n",
    "\n",
    "...\n",
    "\n",
    "これの出る目も3.5になる。\n",
    "\n",
    "しかも、3.5の出る確率が高くなる。\n",
    "\n",
    "一方で、1回振った場合の3.5が出る確率は、3が1回、4が1回と拇平均に近い値が同じだけ出る。\n",
    "\n",
    "▼ここから何が言える？\n",
    "\n",
    "サイコロの出る目の母平均は、3.5\n",
    "\n",
    "サイコロを1回振った場合の標本平均は、3.5。3.5が出る確率はなし。\n",
    "\n",
    "サイコロ2回を振った場合の標本平均は、3.5。3.5が出る確率が一番大きくなる。\n",
    "\n",
    "▼\n",
    "\n",
    "1つの母集団からn個のデータを観測しその標本平均$\\overline{X}$を作る。この時、nが大きければ大きいほど、標本平均は母平均$\\mu$に近い値をとる可能性が高くなる。\n",
    "\n",
    "これを大数の法則。"
   ]
  },
  {
   "cell_type": "markdown",
   "metadata": {
    "collapsed": true
   },
   "source": [
    "### ▼ 標準化って何なの？"
   ]
  },
  {
   "cell_type": "markdown",
   "metadata": {},
   "source": [
    "$x$：N(160,$10^2$)\n",
    "\n",
    "180センチの人を標準化すると、+2になる。\n",
    "\n",
    "※余談\n",
    "\n",
    "標準化は正規分布しているのであれば使えるのであって、そうじゃないものには使えない。\n",
    "\n",
    "つまり、一般正規分布しているものを標準正規分布に直すことを、標準化という。\n",
    "\n",
    "標準化をすると、平均と標準偏差がどんな値だったとしても、$x$：N(0,$1^2$)となる。\n",
    "\n",
    "▼　標準化したらどうなるの？\n",
    "\n",
    "標準化するというのは、標準正規分布に戻すということになる。\n",
    "\n",
    "標準正規分布は、どのような値がどのぐらいの確率になるかというのがわかっている。\n",
    "\n",
    "つまり、180センチの人を標準化すると、どのぐらいの確率で180センチの人がサンプリングされるかわかる。\n",
    "\n",
    "連続型の場合は、階級値の面積で確率がわかる。\n",
    "\n",
    "▼\n",
    "\n",
    "標準化されたら統計数値表から、その値以上、その値以下の確率が全部出ている。\n",
    "\n",
    "なので、+2の確率もわかるし、+2以上の確率もわかるし、+2以下の確率もわかる。\n",
    "\n",
    "▼\n",
    "\n",
    "つまり、母集団の平均と標準偏差がわかれば、ある値が出る確率、ある値以上の確率、ある値以下の確率が算出できる。\n"
   ]
  },
  {
   "cell_type": "markdown",
   "metadata": {},
   "source": [
    "▼　ある値以上の確率を求めなさいという場合の手順\n",
    "\n",
    "平均と標準偏差がわかっていれば、標準化係数がわかる。\n",
    "\n",
    "例えば、$x$：N(160,$10^2$)の場合の180cmの人の標準化係数は+2になる。\n",
    "\n",
    "つまり、$z$=2となる。\n",
    "\n",
    "統計数値表をみて、$z \\geqq 2$の確率を求めればいい。 \n",
    "\n",
    "※1　標準化係数の$z$=2の確率というのは存在しない。\n",
    "\n",
    "※2　$P$$(z \\geqq 2)$というのは、標準化係数が2以上の確率という意味。"
   ]
  },
  {
   "cell_type": "markdown",
   "metadata": {},
   "source": [
    "▼例題１\n",
    "\n",
    "100個作ったら5個不良品が出て、標準偏差は2。\n",
    "\n",
    "不良品が9以上出る確率。"
   ]
  },
  {
   "cell_type": "code",
   "execution_count": null,
   "metadata": {
    "collapsed": true
   },
   "outputs": [],
   "source": []
  }
 ],
 "metadata": {
  "kernelspec": {
   "display_name": "Python 3",
   "language": "python",
   "name": "python3"
  },
  "language_info": {
   "codemirror_mode": {
    "name": "ipython",
    "version": 3
   },
   "file_extension": ".py",
   "mimetype": "text/x-python",
   "name": "python",
   "nbconvert_exporter": "python",
   "pygments_lexer": "ipython3",
   "version": "3.5.1"
  }
 },
 "nbformat": 4,
 "nbformat_minor": 0
}
