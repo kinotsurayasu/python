{
 "cells": [
  {
   "cell_type": "markdown",
   "metadata": {},
   "source": [
    "二項分布は、最も典型的な離散型確率分布。ベルヌーイ試行ともいう。\n",
    "\n",
    "数式は、"
   ]
  },
  {
   "cell_type": "markdown",
   "metadata": {},
   "source": [
    "$\t\\begin{eqnarray}\n",
    "{\\it f}(x)\n",
    "\\end{eqnarray}=_{n} C _{r}P^x(1‐P)^{n-r}   $"
   ]
  },
  {
   "cell_type": "markdown",
   "metadata": {},
   "source": [
    "\n",
    "\n",
    "\n"
   ]
  },
  {
   "cell_type": "markdown",
   "metadata": {},
   "source": [
    "二項分布の平均・分散・標準偏差\n",
    "\n",
    "平均：$\\mu=np$\n",
    "\n",
    "分散：$\\sigma^2=np(1-p)$\n",
    "\n",
    "標準偏差：$\\sigma=\\sqrt{np(1-p)}$"
   ]
  },
  {
   "cell_type": "markdown",
   "metadata": {},
   "source": [
    "$_{100} C _{10}*0.9^{10}*0.1^{100-10}$"
   ]
  },
  {
   "cell_type": "markdown",
   "metadata": {},
   "source": [
    "標準化:  ${\\rm z} = \\frac{x-\\mu}{\\sigma}$"
   ]
  },
  {
   "cell_type": "markdown",
   "metadata": {},
   "source": [
    "変数${x}$は、平均$\\mu$で分散が$\\sigma^2$の正規分布するというのは、\n",
    "\n",
    "${x:N(\\mu,\\sigma^2)}$\n",
    "\n",
    "で表現される。"
   ]
  },
  {
   "cell_type": "markdown",
   "metadata": {},
   "source": [
    "元データ$x$がある値$A$以下になる確率\n",
    "\n",
    "$P(x \\leqq A)$"
   ]
  },
  {
   "cell_type": "code",
   "execution_count": null,
   "metadata": {
    "collapsed": true
   },
   "outputs": [],
   "source": []
  }
 ],
 "metadata": {
  "kernelspec": {
   "display_name": "Python 3",
   "language": "python",
   "name": "python3"
  },
  "language_info": {
   "codemirror_mode": {
    "name": "ipython",
    "version": 3
   },
   "file_extension": ".py",
   "mimetype": "text/x-python",
   "name": "python",
   "nbconvert_exporter": "python",
   "pygments_lexer": "ipython3",
   "version": "3.5.1"
  }
 },
 "nbformat": 4,
 "nbformat_minor": 0
}
