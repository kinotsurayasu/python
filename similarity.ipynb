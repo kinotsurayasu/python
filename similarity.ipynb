{
 "cells": [
  {
   "cell_type": "markdown",
   "metadata": {},
   "source": [
    "## ▼ライブラリを使ったジャッカード係数とダイス係数"
   ]
  },
  {
   "cell_type": "code",
   "execution_count": 117,
   "metadata": {
    "collapsed": true
   },
   "outputs": [],
   "source": [
    "from scipy.spatial.distance import jaccard\n",
    "import math\n",
    "import pandas as pd\n",
    "import numpy as np\n",
    "from numpy import nan\n",
    "from pandas import Series,DataFrame"
   ]
  },
  {
   "cell_type": "code",
   "execution_count": 123,
   "metadata": {
    "collapsed": false
   },
   "outputs": [
    {
     "data": {
      "text/html": [
       "<div>\n",
       "<table border=\"1\" class=\"dataframe\">\n",
       "  <thead>\n",
       "    <tr style=\"text-align: right;\">\n",
       "      <th></th>\n",
       "      <th>item1</th>\n",
       "      <th>item2</th>\n",
       "      <th>item3</th>\n",
       "      <th>item4</th>\n",
       "    </tr>\n",
       "  </thead>\n",
       "  <tbody>\n",
       "    <tr>\n",
       "      <th>x</th>\n",
       "      <td>1</td>\n",
       "      <td>1</td>\n",
       "      <td>0</td>\n",
       "      <td>1</td>\n",
       "    </tr>\n",
       "    <tr>\n",
       "      <th>y</th>\n",
       "      <td>1</td>\n",
       "      <td>0</td>\n",
       "      <td>1</td>\n",
       "      <td>0</td>\n",
       "    </tr>\n",
       "  </tbody>\n",
       "</table>\n",
       "</div>"
      ],
      "text/plain": [
       "   item1  item2  item3  item4\n",
       "x      1      1      0      1\n",
       "y      1      0      1      0"
      ]
     },
     "execution_count": 123,
     "metadata": {},
     "output_type": "execute_result"
    }
   ],
   "source": [
    "data = {'item1':[1,1],\n",
    "        'item2':[1,0],\n",
    "        'item3':[0,1],\n",
    "        'item4':[1,0],       \n",
    "       }\n",
    "\n",
    "df=DataFrame(data,index=['x','y'])\n",
    "df"
   ]
  },
  {
   "cell_type": "code",
   "execution_count": 119,
   "metadata": {
    "collapsed": false
   },
   "outputs": [
    {
     "data": {
      "text/plain": [
       "0.25"
      ]
     },
     "execution_count": 119,
     "metadata": {},
     "output_type": "execute_result"
    }
   ],
   "source": [
    "1-jaccard(list(df.ix['x']),list(df.ix['y']))"
   ]
  },
  {
   "cell_type": "code",
   "execution_count": 92,
   "metadata": {
    "collapsed": false
   },
   "outputs": [
    {
     "data": {
      "text/plain": [
       "0.25"
      ]
     },
     "execution_count": 92,
     "metadata": {},
     "output_type": "execute_result"
    }
   ],
   "source": [
    "1-jaccard( [ 1, 1, 0, 1 ], [ 1, 0, 1, 0 ] )"
   ]
  },
  {
   "cell_type": "code",
   "execution_count": 93,
   "metadata": {
    "collapsed": false
   },
   "outputs": [
    {
     "data": {
      "text/plain": [
       "0.5"
      ]
     },
     "execution_count": 93,
     "metadata": {},
     "output_type": "execute_result"
    }
   ],
   "source": [
    "1-jaccard( [ 1, 1, 0, 1 ], [ 0, 1, 1, 1 ] )"
   ]
  },
  {
   "cell_type": "code",
   "execution_count": 94,
   "metadata": {
    "collapsed": false
   },
   "outputs": [
    {
     "data": {
      "text/plain": [
       "0.75"
      ]
     },
     "execution_count": 94,
     "metadata": {},
     "output_type": "execute_result"
    }
   ],
   "source": [
    "1-jaccard( [ 1, 1, 0, 1 ], [ 1, 1, 1, 1 ] )"
   ]
  },
  {
   "cell_type": "code",
   "execution_count": null,
   "metadata": {
    "collapsed": true
   },
   "outputs": [],
   "source": []
  },
  {
   "cell_type": "markdown",
   "metadata": {},
   "source": [
    "## ▼自作関数を使ったジャッカード係数とダイス係数"
   ]
  },
  {
   "cell_type": "code",
   "execution_count": 124,
   "metadata": {
    "collapsed": true
   },
   "outputs": [],
   "source": [
    "def jaccard(v1, v2):\n",
    "    numerator = sum([c in v2 for c in v1])\n",
    "    denominator = len(v1) + len(v2) - numerator\n",
    "    return float(numerator) / denominator if denominator != 0 else 0"
   ]
  },
  {
   "cell_type": "code",
   "execution_count": 126,
   "metadata": {
    "collapsed": false
   },
   "outputs": [
    {
     "data": {
      "text/plain": [
       "{'item1': 1, 'item2': 1, 'item4': 1}"
      ]
     },
     "execution_count": 126,
     "metadata": {},
     "output_type": "execute_result"
    }
   ],
   "source": [
    "dict(df.ix['x',(df.ix['x'] == 1)])"
   ]
  },
  {
   "cell_type": "code",
   "execution_count": 128,
   "metadata": {
    "collapsed": false
   },
   "outputs": [
    {
     "data": {
      "text/plain": [
       "0.25"
      ]
     },
     "execution_count": 128,
     "metadata": {},
     "output_type": "execute_result"
    }
   ],
   "source": [
    "x= {'item1': 1, 'item2': 1, 'item4': 1}\n",
    "y= {'item1': 1, 'item3': 1, }\n",
    "jaccard(dict(df.ix['x',(df.ix['x'] == 1)]),dict(df.ix['y',(df.ix['y'] == 1)]))"
   ]
  },
  {
   "cell_type": "code",
   "execution_count": 76,
   "metadata": {
    "collapsed": false
   },
   "outputs": [
    {
     "data": {
      "text/plain": [
       "0.5"
      ]
     },
     "execution_count": 76,
     "metadata": {},
     "output_type": "execute_result"
    }
   ],
   "source": [
    "x= {'item1': 1, 'item2': 1, 'item4': 1}\n",
    "y= {'item2': 1, 'item3': 1, 'item4': 1}\n",
    "jaccard(x,y)"
   ]
  },
  {
   "cell_type": "code",
   "execution_count": 77,
   "metadata": {
    "collapsed": false
   },
   "outputs": [
    {
     "data": {
      "text/plain": [
       "0.75"
      ]
     },
     "execution_count": 77,
     "metadata": {},
     "output_type": "execute_result"
    }
   ],
   "source": [
    "x= {'item1': 1, 'item2': 1, 'item4': 1}\n",
    "y= {'item1': 1, 'item2': 1, 'item3': 1, 'item4': 1 }\n",
    "jaccard(x,y)"
   ]
  },
  {
   "cell_type": "code",
   "execution_count": 78,
   "metadata": {
    "collapsed": true
   },
   "outputs": [],
   "source": [
    "def dice(v1, v2):\n",
    "    numerator = sum([c in v2 for c in v1])\n",
    "    denominator = len(v1) + len(v2)\n",
    "    return 2 * float(numerator) / denominator if denominator != 0 else 0"
   ]
  },
  {
   "cell_type": "code",
   "execution_count": 89,
   "metadata": {
    "collapsed": false
   },
   "outputs": [
    {
     "data": {
      "text/plain": [
       "0.4"
      ]
     },
     "execution_count": 89,
     "metadata": {},
     "output_type": "execute_result"
    }
   ],
   "source": [
    "x= {'item1': 1, 'item2': 1, 'item4': 1}\n",
    "y= {'item1': 1, 'item3': 1, }\n",
    "dice(x,y)"
   ]
  },
  {
   "cell_type": "code",
   "execution_count": 80,
   "metadata": {
    "collapsed": false
   },
   "outputs": [
    {
     "data": {
      "text/plain": [
       "0.6666666666666666"
      ]
     },
     "execution_count": 80,
     "metadata": {},
     "output_type": "execute_result"
    }
   ],
   "source": [
    "x= {'item1': 1, 'item2': 1, 'item4': 1}\n",
    "y= {'item2': 1, 'item3': 1, 'item4': 1}\n",
    "dice(x,y)"
   ]
  },
  {
   "cell_type": "code",
   "execution_count": 90,
   "metadata": {
    "collapsed": false
   },
   "outputs": [
    {
     "data": {
      "text/plain": [
       "0.8571428571428571"
      ]
     },
     "execution_count": 90,
     "metadata": {},
     "output_type": "execute_result"
    }
   ],
   "source": [
    "x= {'item1': 1, 'item2': 1, 'item4': 1}\n",
    "y= {'item1': 1, 'item2': 1, 'item3': 1, 'item4': 1 }\n",
    "dice(x,y)"
   ]
  },
  {
   "cell_type": "code",
   "execution_count": 68,
   "metadata": {
    "collapsed": true
   },
   "outputs": [],
   "source": [
    "def simpson(v1, v2):\n",
    "    numerator = sum([c in v2 for c in v1])\n",
    "    denominator = min(len(v1), len(v2))\n",
    "    return float(numerator) / denominator if denominator != 0 else 0"
   ]
  },
  {
   "cell_type": "code",
   "execution_count": 87,
   "metadata": {
    "collapsed": false
   },
   "outputs": [
    {
     "data": {
      "text/plain": [
       "0.6666666666666666"
      ]
     },
     "execution_count": 87,
     "metadata": {},
     "output_type": "execute_result"
    }
   ],
   "source": [
    "x= {'item1': 1, 'item2': 1, 'item4': 1}\n",
    "y= {'item2': 1, 'item3': 1, 'item4': 1}\n",
    "simpson(x,y)"
   ]
  },
  {
   "cell_type": "code",
   "execution_count": 84,
   "metadata": {
    "collapsed": false
   },
   "outputs": [
    {
     "data": {
      "text/plain": [
       "0.6666666666666666"
      ]
     },
     "execution_count": 84,
     "metadata": {},
     "output_type": "execute_result"
    }
   ],
   "source": [
    "x= {'item1': 1, 'item2': 1, 'item4': 1}\n",
    "y= {'item2': 1, 'item3': 1, 'item4': 1}\n",
    "simpson(x,y)"
   ]
  },
  {
   "cell_type": "code",
   "execution_count": 88,
   "metadata": {
    "collapsed": false
   },
   "outputs": [
    {
     "data": {
      "text/plain": [
       "1.0"
      ]
     },
     "execution_count": 88,
     "metadata": {},
     "output_type": "execute_result"
    }
   ],
   "source": [
    "x= {'item1': 1, 'item2': 1, 'item4': 1}\n",
    "y= {'item1': 1, 'item2': 1, 'item3': 1, 'item4': 1 }\n",
    "simpson(x,y)"
   ]
  },
  {
   "cell_type": "code",
   "execution_count": 86,
   "metadata": {
    "collapsed": true
   },
   "outputs": [],
   "source": [
    "def cos(v1, v2):\n",
    "    numerator = sum([v1[c] * v2[c] for c in v1 if c in v2])\n",
    "    square = lambda x: x * x\n",
    "    denominator =  math.sqrt(sum(map(square, v1.values())) * sum(map(square, v2.values())))\n",
    "    return float(numerator) / denominator if denominator != 0 else 0"
   ]
  },
  {
   "cell_type": "code",
   "execution_count": 56,
   "metadata": {
    "collapsed": false
   },
   "outputs": [
    {
     "data": {
      "text/plain": [
       "0.4082482904638631"
      ]
     },
     "execution_count": 56,
     "metadata": {},
     "output_type": "execute_result"
    }
   ],
   "source": [
    "x= {'iteme1': 1, 'iteme2': 1, 'iteme4': 1}\n",
    "y= {'iteme1': 1, 'iteme3': 1, }\n",
    "cos(x,y)"
   ]
  },
  {
   "cell_type": "code",
   "execution_count": 59,
   "metadata": {
    "collapsed": false
   },
   "outputs": [
    {
     "data": {
      "text/plain": [
       "0.6666666666666666"
      ]
     },
     "execution_count": 59,
     "metadata": {},
     "output_type": "execute_result"
    }
   ],
   "source": [
    "x= {'iteme1': 1, 'iteme2': 1, 'iteme4': 1}\n",
    "y= {'iteme2': 1, 'iteme3': 1, 'iteme4': 1 }\n",
    "cos(x,y)"
   ]
  },
  {
   "cell_type": "code",
   "execution_count": 58,
   "metadata": {
    "collapsed": false
   },
   "outputs": [
    {
     "data": {
      "text/plain": [
       "0.8660254037844387"
      ]
     },
     "execution_count": 58,
     "metadata": {},
     "output_type": "execute_result"
    }
   ],
   "source": [
    "x= {'iteme1': 1, 'iteme2': 1, 'iteme4': 1}\n",
    "y= {'iteme1': 1, 'iteme2': 1, 'iteme3': 1, 'iteme4': 1}\n",
    "cos(x,y)"
   ]
  },
  {
   "cell_type": "code",
   "execution_count": 60,
   "metadata": {
    "collapsed": true
   },
   "outputs": [],
   "source": [
    "def jaccard_weight(v1, v2):\n",
    "    numerator = 0\n",
    "    denominator = 0\n",
    "    \n",
    "    keys = set(v1.keys())\n",
    "    keys.update(v2.keys())\n",
    "    \n",
    "    for k in keys:\n",
    "        f1 = v1.get(k, 0)\n",
    "        f2 = v2.get(k, 0)\n",
    "        numerator += min(f1, f2)\n",
    "        denominator += max(f1, f2)\n",
    "    return float(numerator) / denominator if denominator != 0 else 0"
   ]
  },
  {
   "cell_type": "code",
   "execution_count": 61,
   "metadata": {
    "collapsed": false
   },
   "outputs": [
    {
     "data": {
      "text/plain": [
       "0.25"
      ]
     },
     "execution_count": 61,
     "metadata": {},
     "output_type": "execute_result"
    }
   ],
   "source": [
    "x= {'iteme1': 1, 'iteme2': 1, 'iteme4': 1}\n",
    "y= {'iteme1': 1, 'iteme3': 1, }\n",
    "jaccard_weight(x,y)"
   ]
  },
  {
   "cell_type": "code",
   "execution_count": 62,
   "metadata": {
    "collapsed": false
   },
   "outputs": [
    {
     "data": {
      "text/plain": [
       "0.5"
      ]
     },
     "execution_count": 62,
     "metadata": {},
     "output_type": "execute_result"
    }
   ],
   "source": [
    "x= {'iteme1': 1, 'iteme2': 1, 'iteme4': 1}\n",
    "y= {'iteme2': 1, 'iteme3': 1, 'iteme4': 1 }\n",
    "jaccard_weight(x,y)"
   ]
  },
  {
   "cell_type": "code",
   "execution_count": 63,
   "metadata": {
    "collapsed": false
   },
   "outputs": [
    {
     "data": {
      "text/plain": [
       "0.75"
      ]
     },
     "execution_count": 63,
     "metadata": {},
     "output_type": "execute_result"
    }
   ],
   "source": [
    "x= {'iteme1': 1, 'iteme2': 1, 'iteme4': 1}\n",
    "y= {'iteme1': 1, 'iteme2': 1, 'iteme3': 1, 'iteme4': 1}\n",
    "jaccard_weight(x,y)"
   ]
  },
  {
   "cell_type": "code",
   "execution_count": 64,
   "metadata": {
    "collapsed": true
   },
   "outputs": [],
   "source": [
    "def dice_weight(v1, v2):\n",
    "    numerator = 0\n",
    "    denominator = 0\n",
    "    \n",
    "    keys = set(v1.keys())\n",
    "    keys.update(v2.keys())\n",
    "    \n",
    "    for k in keys:\n",
    "        f1 = v1.get(k, 0)\n",
    "        f2 = v2.get(k, 0)\n",
    "        numerator += min(f1, f2)\n",
    "        denominator += f1 + f2\n",
    "    return 2 * float(numerator) / denominator if denominator != 0 else 0"
   ]
  },
  {
   "cell_type": "code",
   "execution_count": 65,
   "metadata": {
    "collapsed": false
   },
   "outputs": [
    {
     "data": {
      "text/plain": [
       "0.4"
      ]
     },
     "execution_count": 65,
     "metadata": {},
     "output_type": "execute_result"
    }
   ],
   "source": [
    "x= {'iteme1': 1, 'iteme2': 1, 'iteme4': 1}\n",
    "y= {'iteme1': 1, 'iteme3': 1, }\n",
    "dice_weight(x,y)"
   ]
  },
  {
   "cell_type": "code",
   "execution_count": 66,
   "metadata": {
    "collapsed": false
   },
   "outputs": [
    {
     "data": {
      "text/plain": [
       "0.6666666666666666"
      ]
     },
     "execution_count": 66,
     "metadata": {},
     "output_type": "execute_result"
    }
   ],
   "source": [
    "x= {'iteme1': 1, 'iteme2': 1, 'iteme4': 1}\n",
    "y= {'iteme2': 1, 'iteme3': 1, 'iteme4': 1 }\n",
    "dice_weight(x,y)"
   ]
  },
  {
   "cell_type": "code",
   "execution_count": 67,
   "metadata": {
    "collapsed": false
   },
   "outputs": [
    {
     "data": {
      "text/plain": [
       "0.8571428571428571"
      ]
     },
     "execution_count": 67,
     "metadata": {},
     "output_type": "execute_result"
    }
   ],
   "source": [
    "x= {'iteme1': 1, 'iteme2': 1, 'iteme4': 1}\n",
    "y= {'iteme1': 1, 'iteme2': 1, 'iteme3': 1, 'iteme4': 1}\n",
    "dice_weight(x,y)"
   ]
  },
  {
   "cell_type": "code",
   "execution_count": null,
   "metadata": {
    "collapsed": true
   },
   "outputs": [],
   "source": []
  }
 ],
 "metadata": {
  "kernelspec": {
   "display_name": "Python 2",
   "language": "python",
   "name": "python2"
  },
  "language_info": {
   "codemirror_mode": {
    "name": "ipython",
    "version": 2
   },
   "file_extension": ".py",
   "mimetype": "text/x-python",
   "name": "python",
   "nbconvert_exporter": "python",
   "pygments_lexer": "ipython2",
   "version": "2.7.11"
  }
 },
 "nbformat": 4,
 "nbformat_minor": 0
}
