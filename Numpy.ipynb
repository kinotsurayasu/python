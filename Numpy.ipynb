{
 "cells": [
  {
   "cell_type": "code",
   "execution_count": 1,
   "metadata": {
    "collapsed": false
   },
   "outputs": [],
   "source": [
    "import numpy as np"
   ]
  },
  {
   "cell_type": "code",
   "execution_count": 28,
   "metadata": {
    "collapsed": false
   },
   "outputs": [],
   "source": [
    "arr=np.arange(10)"
   ]
  },
  {
   "cell_type": "code",
   "execution_count": 29,
   "metadata": {
    "collapsed": false
   },
   "outputs": [
    {
     "data": {
      "text/plain": [
       "array([0, 1, 2, 3, 4, 5, 6, 7, 8, 9])"
      ]
     },
     "execution_count": 29,
     "metadata": {},
     "output_type": "execute_result"
    }
   ],
   "source": [
    "arr"
   ]
  },
  {
   "cell_type": "code",
   "execution_count": 32,
   "metadata": {
    "collapsed": false
   },
   "outputs": [
    {
     "data": {
      "text/plain": [
       "array([0, 1, 2, 3, 4, 5, 6, 7, 8, 9])"
      ]
     },
     "execution_count": 32,
     "metadata": {},
     "output_type": "execute_result"
    }
   ],
   "source": [
    "#これでも一発表示\n",
    "np.arange(10)"
   ]
  },
  {
   "cell_type": "code",
   "execution_count": 33,
   "metadata": {
    "collapsed": false
   },
   "outputs": [
    {
     "data": {
      "text/plain": [
       "array([0, 1, 2, 5, 4, 5, 6, 7, 8, 9])"
      ]
     },
     "execution_count": 33,
     "metadata": {},
     "output_type": "execute_result"
    }
   ],
   "source": [
    "#配列の中の数字を書き換え\n",
    "arr[3]=5\n",
    "arr"
   ]
  },
  {
   "cell_type": "code",
   "execution_count": 34,
   "metadata": {
    "collapsed": false
   },
   "outputs": [
    {
     "data": {
      "text/plain": [
       "[0, 1, 2, 3, 4]"
      ]
     },
     "execution_count": 34,
     "metadata": {},
     "output_type": "execute_result"
    }
   ],
   "source": [
    "#Numpyの配列もリストと基本的には同じ\n",
    "list=[0,1,2,3,4]\n",
    "list"
   ]
  },
  {
   "cell_type": "code",
   "execution_count": 35,
   "metadata": {
    "collapsed": false
   },
   "outputs": [
    {
     "data": {
      "text/plain": [
       "[0, 8, 2, 3, 4]"
      ]
     },
     "execution_count": 35,
     "metadata": {},
     "output_type": "execute_result"
    }
   ],
   "source": [
    "list[1]=8\n",
    "list"
   ]
  },
  {
   "cell_type": "code",
   "execution_count": 38,
   "metadata": {
    "collapsed": false
   },
   "outputs": [
    {
     "data": {
      "text/plain": [
       "array([0, 1, 2, 3, 4, 5, 6, 7])"
      ]
     },
     "execution_count": 38,
     "metadata": {},
     "output_type": "execute_result"
    }
   ],
   "source": [
    "arr1=np.arange(8)\n",
    "\n",
    "for i in range(8):\n",
    "    arr1[i]=i\n",
    "\n",
    "arr1"
   ]
  },
  {
   "cell_type": "code",
   "execution_count": 3,
   "metadata": {
    "collapsed": false
   },
   "outputs": [
    {
     "ename": "TypeError",
     "evalue": "arange: scalar arguments expected instead of a tuple.",
     "output_type": "error",
     "traceback": [
      "\u001b[1;31m---------------------------------------------------------------------------\u001b[0m",
      "\u001b[1;31mTypeError\u001b[0m                                 Traceback (most recent call last)",
      "\u001b[1;32m<ipython-input-3-24f42a0d404e>\u001b[0m in \u001b[0;36m<module>\u001b[1;34m()\u001b[0m\n\u001b[1;32m----> 1\u001b[1;33m \u001b[0mnp\u001b[0m\u001b[1;33m.\u001b[0m\u001b[0marange\u001b[0m\u001b[1;33m(\u001b[0m\u001b[1;33m(\u001b[0m\u001b[1;36m8\u001b[0m\u001b[1;33m,\u001b[0m\u001b[1;36m4\u001b[0m\u001b[1;33m)\u001b[0m\u001b[1;33m)\u001b[0m\u001b[1;33m\u001b[0m\u001b[0m\n\u001b[0m",
      "\u001b[1;31mTypeError\u001b[0m: arange: scalar arguments expected instead of a tuple."
     ]
    }
   ],
   "source": [
    "np.arange((8,4))"
   ]
  },
  {
   "cell_type": "code",
   "execution_count": 4,
   "metadata": {
    "collapsed": false
   },
   "outputs": [
    {
     "data": {
      "text/plain": [
       "array([[-0.92442364,  0.12532098, -0.28869535,  0.03818235],\n",
       "       [-0.419525  ,  0.52237424, -0.77401926,  0.09063418],\n",
       "       [ 0.98279709, -0.45166779,  0.40171485, -0.3190089 ],\n",
       "       [-0.05737623,  0.64952759,  1.24337528, -1.68578271],\n",
       "       [-0.95497332,  0.01220698, -0.88162077,  0.68772623],\n",
       "       [ 0.82986355, -0.47669615,  3.0221972 , -0.28682667],\n",
       "       [-1.01176668,  0.69601078, -0.03059154,  0.24269077],\n",
       "       [ 0.48389459,  1.36194106,  0.84522451,  0.40833163]])"
      ]
     },
     "execution_count": 4,
     "metadata": {},
     "output_type": "execute_result"
    }
   ],
   "source": [
    "np.random.randn(8,4)"
   ]
  },
  {
   "cell_type": "code",
   "execution_count": 41,
   "metadata": {
    "collapsed": false
   },
   "outputs": [
    {
     "data": {
      "text/plain": [
       "array([[ 0.,  0.,  0.,  0.],\n",
       "       [ 0.,  0.,  0.,  0.],\n",
       "       [ 0.,  0.,  0.,  0.],\n",
       "       [ 0.,  0.,  0.,  0.],\n",
       "       [ 0.,  0.,  0.,  0.],\n",
       "       [ 0.,  0.,  0.,  0.],\n",
       "       [ 0.,  0.,  0.,  0.],\n",
       "       [ 0.,  0.,  0.,  0.]])"
      ]
     },
     "execution_count": 41,
     "metadata": {},
     "output_type": "execute_result"
    }
   ],
   "source": []
  },
  {
   "cell_type": "code",
   "execution_count": 8,
   "metadata": {
    "collapsed": false
   },
   "outputs": [],
   "source": [
    "arr=np.random.randn(8,4)"
   ]
  },
  {
   "cell_type": "code",
   "execution_count": 9,
   "metadata": {
    "collapsed": false,
    "scrolled": false
   },
   "outputs": [],
   "source": [
    "for i in range(8):\n",
    "    arr[i]=i"
   ]
  },
  {
   "cell_type": "code",
   "execution_count": 10,
   "metadata": {
    "collapsed": false
   },
   "outputs": [
    {
     "data": {
      "text/plain": [
       "array([[ 0.,  0.,  0.,  0.],\n",
       "       [ 1.,  1.,  1.,  1.],\n",
       "       [ 2.,  2.,  2.,  2.],\n",
       "       [ 3.,  3.,  3.,  3.],\n",
       "       [ 4.,  4.,  4.,  4.],\n",
       "       [ 5.,  5.,  5.,  5.],\n",
       "       [ 6.,  6.,  6.,  6.],\n",
       "       [ 7.,  7.,  7.,  7.]])"
      ]
     },
     "execution_count": 10,
     "metadata": {},
     "output_type": "execute_result"
    }
   ],
   "source": [
    "arr"
   ]
  },
  {
   "cell_type": "code",
   "execution_count": 14,
   "metadata": {
    "collapsed": true
   },
   "outputs": [],
   "source": [
    "arr=np.random.randn(8,4)"
   ]
  },
  {
   "cell_type": "markdown",
   "metadata": {},
   "source": [
    "▼行の中の列を指定のやり方。"
   ]
  },
  {
   "cell_type": "code",
   "execution_count": 47,
   "metadata": {
    "collapsed": false,
    "scrolled": true
   },
   "outputs": [
    {
     "data": {
      "text/plain": [
       "array([[  0.,   0.,   0.,   0.],\n",
       "       [  1.,   1.,  99.,   1.],\n",
       "       [  2.,   2.,   2.,   2.],\n",
       "       [  3.,   3.,   3.,   3.],\n",
       "       [  4.,   4.,   4.,   4.],\n",
       "       [  5.,   5.,   5.,   5.],\n",
       "       [  6.,   6.,   6.,   6.],\n",
       "       [  7.,   7.,   7.,   7.]])"
      ]
     },
     "execution_count": 47,
     "metadata": {},
     "output_type": "execute_result"
    }
   ],
   "source": [
    "arr[1][2]=99\n",
    "arr"
   ]
  },
  {
   "cell_type": "code",
   "execution_count": 16,
   "metadata": {
    "collapsed": false
   },
   "outputs": [],
   "source": [
    "for i in range(4):\n",
    "    arr[0][i]=i"
   ]
  },
  {
   "cell_type": "code",
   "execution_count": 17,
   "metadata": {
    "collapsed": false
   },
   "outputs": [
    {
     "data": {
      "text/plain": [
       "array([[ 0.        ,  1.        ,  2.        ,  3.        ],\n",
       "       [ 0.70662227, -0.99915314, -0.81775336,  1.28364447],\n",
       "       [-0.89533139,  0.7884615 , -0.54829446,  1.4293689 ],\n",
       "       [ 0.05581489, -0.68965639, -1.63850402,  0.24855615],\n",
       "       [ 0.36550711, -0.35667375, -0.2423336 ,  0.12366919],\n",
       "       [-0.64581329,  0.15718229,  1.09952074, -1.92002304],\n",
       "       [-0.92266813, -0.35047346, -0.69122726,  0.08319126],\n",
       "       [ 0.93287418,  1.17683416, -0.24542741,  0.16698977]])"
      ]
     },
     "execution_count": 17,
     "metadata": {},
     "output_type": "execute_result"
    }
   ],
   "source": [
    "arr"
   ]
  },
  {
   "cell_type": "markdown",
   "metadata": {
    "collapsed": true
   },
   "source": [
    "配列が1次元の場合は、配列の中の1つの数字が入れ替わる。配列が2次元の場合は、配列の数字がまるまる入れ替わる。\n",
    "じゃあ、配列を2つ指定をすると…"
   ]
  },
  {
   "cell_type": "markdown",
   "metadata": {
    "collapsed": true
   },
   "source": [
    "▼ちなみに、行の中の列を指定。これでもオッケー"
   ]
  },
  {
   "cell_type": "code",
   "execution_count": 51,
   "metadata": {
    "collapsed": false,
    "scrolled": true
   },
   "outputs": [
    {
     "data": {
      "text/plain": [
       "array([[  0.,   0.,   0.,   0.],\n",
       "       [  1.,   1.,  99.,   1.],\n",
       "       [  2.,   2.,   2.,  99.],\n",
       "       [  3.,   3.,   3.,   3.],\n",
       "       [  4.,   4.,   4.,   4.],\n",
       "       [  5.,   5.,   5.,   5.],\n",
       "       [  6.,   6.,   6.,   6.],\n",
       "       [  7.,   7.,   7.,   7.]])"
      ]
     },
     "execution_count": 51,
     "metadata": {},
     "output_type": "execute_result"
    }
   ],
   "source": [
    "arr[2,3]=99\n",
    "arr"
   ]
  },
  {
   "cell_type": "code",
   "execution_count": 52,
   "metadata": {
    "collapsed": false
   },
   "outputs": [
    {
     "data": {
      "text/plain": [
       "array([[  0.,   1.,   2.,   3.,   4.,   5.,   6.,   7.],\n",
       "       [  0.,   1.,   2.,   3.,   4.,   5.,   6.,   7.],\n",
       "       [  0.,  99.,   2.,   3.,   4.,   5.,   6.,   7.],\n",
       "       [  0.,   1.,  99.,   3.,   4.,   5.,   6.,   7.]])"
      ]
     },
     "execution_count": 52,
     "metadata": {},
     "output_type": "execute_result"
    }
   ],
   "source": [
    "arr.T"
   ]
  },
  {
   "cell_type": "code",
   "execution_count": 28,
   "metadata": {
    "collapsed": true
   },
   "outputs": [],
   "source": [
    "arr=np.arange(20).reshape((5,4))"
   ]
  },
  {
   "cell_type": "code",
   "execution_count": 29,
   "metadata": {
    "collapsed": false
   },
   "outputs": [
    {
     "data": {
      "text/plain": [
       "array([[ 0,  1,  2,  3],\n",
       "       [ 4,  5,  6,  7],\n",
       "       [ 8,  9, 10, 11],\n",
       "       [12, 13, 14, 15],\n",
       "       [16, 17, 18, 19]])"
      ]
     },
     "execution_count": 29,
     "metadata": {},
     "output_type": "execute_result"
    }
   ],
   "source": [
    "arr"
   ]
  },
  {
   "cell_type": "code",
   "execution_count": 53,
   "metadata": {
    "collapsed": false
   },
   "outputs": [
    {
     "ename": "IndexError",
     "evalue": "index 8 is out of bounds for axis 0 with size 8",
     "output_type": "error",
     "traceback": [
      "\u001b[1;31m---------------------------------------------------------------------------\u001b[0m",
      "\u001b[1;31mIndexError\u001b[0m                                Traceback (most recent call last)",
      "\u001b[1;32m<ipython-input-53-9fa715b76cf0>\u001b[0m in \u001b[0;36m<module>\u001b[1;34m()\u001b[0m\n\u001b[0;32m      1\u001b[0m \u001b[1;32mfor\u001b[0m \u001b[0mi\u001b[0m \u001b[1;32min\u001b[0m \u001b[0mrange\u001b[0m\u001b[1;33m(\u001b[0m\u001b[1;36m10\u001b[0m\u001b[1;33m)\u001b[0m\u001b[1;33m:\u001b[0m\u001b[1;33m\u001b[0m\u001b[0m\n\u001b[1;32m----> 2\u001b[1;33m     \u001b[0marr\u001b[0m\u001b[1;33m[\u001b[0m\u001b[0mi\u001b[0m\u001b[1;33m]\u001b[0m\u001b[1;33m=\u001b[0m\u001b[0mi\u001b[0m\u001b[1;33m\u001b[0m\u001b[0m\n\u001b[0m\u001b[0;32m      3\u001b[0m \u001b[1;33m\u001b[0m\u001b[0m\n\u001b[0;32m      4\u001b[0m \u001b[1;31m#「arr=np.arange(20).reshape((5,4))」の部分で、5行しかない配列を作っている。一方で、ここで10行の配列を作っているからエラー。5以下にすればオッケー\u001b[0m\u001b[1;33m\u001b[0m\u001b[1;33m\u001b[0m\u001b[0m\n",
      "\u001b[1;31mIndexError\u001b[0m: index 8 is out of bounds for axis 0 with size 8"
     ]
    }
   ],
   "source": [
    "for i in range(10):\n",
    "    arr[i]=i\n",
    "    \n",
    "#「arr=np.arange(20).reshape((5,4))」の部分で、5行しかない配列を作っている。一方で、ここで10行の配列を作っているからエラー。5以下にすればオッケー"
   ]
  },
  {
   "cell_type": "markdown",
   "metadata": {
    "collapsed": true
   },
   "source": [
    "▼meshgridメゾット\n",
    "meshgridメゾットは、組み合わせを作るメゾット。\n",
    "[1 2 3]と[4 5 6 7]は、3×4＝12通りの組み合わせがある。\n",
    "すなわち、(1,4)(1,5)(1,6)(1,7)(2,4)(2,5)(2,6)(2,7)(3,4)(3,5)(3,6)(3,7)の12通り。\n",
    "\n",
    "例えば、\n",
    "[1 2 3]と[4 4 4]の1番目ずつの組合せ、2番目ずつのの組合せ、3番目ずつの組合せの3つ。\n",
    "つまり、(1,4)(2,4)(3,4)の3つ。\n",
    "[1 2 3]と[5 5 5]も同様に3つ\n",
    "[1 2 3]と[6 6 6]の同様に3つ\n",
    "[1 2 3]と[7 7 7]の同様に3つ\n",
    "で12通りの組み合わせができる。\n",
    "\n",
    "下記で実行を試す。"
   ]
  },
  {
   "cell_type": "code",
   "execution_count": 9,
   "metadata": {
    "collapsed": false
   },
   "outputs": [
    {
     "name": "stdout",
     "output_type": "stream",
     "text": [
      "[1 2 3]\n"
     ]
    }
   ],
   "source": [
    "data1=np.arange(1,4,1)\n",
    "print data1"
   ]
  },
  {
   "cell_type": "code",
   "execution_count": 10,
   "metadata": {
    "collapsed": false
   },
   "outputs": [
    {
     "name": "stdout",
     "output_type": "stream",
     "text": [
      "[4 5 6 7]\n"
     ]
    }
   ],
   "source": [
    "data2=np.arange(4,8,1)\n",
    "print data2"
   ]
  },
  {
   "cell_type": "code",
   "execution_count": 11,
   "metadata": {
    "collapsed": false
   },
   "outputs": [
    {
     "data": {
      "text/plain": [
       "[array([[1, 2, 3],\n",
       "        [1, 2, 3],\n",
       "        [1, 2, 3],\n",
       "        [1, 2, 3]]), array([[4, 4, 4],\n",
       "        [5, 5, 5],\n",
       "        [6, 6, 6],\n",
       "        [7, 7, 7]])]"
      ]
     },
     "execution_count": 11,
     "metadata": {},
     "output_type": "execute_result"
    }
   ],
   "source": [
    "np.meshgrid(data1,data2)"
   ]
  },
  {
   "cell_type": "code",
   "execution_count": 12,
   "metadata": {
    "collapsed": true
   },
   "outputs": [],
   "source": [
    "xs,ys=np.meshgrid(data1,data2)"
   ]
  },
  {
   "cell_type": "code",
   "execution_count": 13,
   "metadata": {
    "collapsed": false
   },
   "outputs": [
    {
     "data": {
      "text/plain": [
       "array([[1, 2, 3],\n",
       "       [1, 2, 3],\n",
       "       [1, 2, 3],\n",
       "       [1, 2, 3]])"
      ]
     },
     "execution_count": 13,
     "metadata": {},
     "output_type": "execute_result"
    }
   ],
   "source": [
    "xs"
   ]
  },
  {
   "cell_type": "code",
   "execution_count": 14,
   "metadata": {
    "collapsed": false
   },
   "outputs": [
    {
     "data": {
      "text/plain": [
       "array([[4, 4, 4],\n",
       "       [5, 5, 5],\n",
       "       [6, 6, 6],\n",
       "       [7, 7, 7]])"
      ]
     },
     "execution_count": 14,
     "metadata": {},
     "output_type": "execute_result"
    }
   ],
   "source": [
    "ys"
   ]
  },
  {
   "cell_type": "markdown",
   "metadata": {
    "collapsed": false
   },
   "source": [
    "配列同士を足し算すると、それぞれの組合せで足し算ができる"
   ]
  },
  {
   "cell_type": "code",
   "execution_count": 18,
   "metadata": {
    "collapsed": false
   },
   "outputs": [
    {
     "data": {
      "text/plain": [
       "array([[ 5,  6,  7],\n",
       "       [ 6,  7,  8],\n",
       "       [ 7,  8,  9],\n",
       "       [ 8,  9, 10]])"
      ]
     },
     "execution_count": 18,
     "metadata": {},
     "output_type": "execute_result"
    }
   ],
   "source": [
    "xs+ys"
   ]
  },
  {
   "cell_type": "code",
   "execution_count": 11,
   "metadata": {
    "collapsed": true
   },
   "outputs": [],
   "source": [
    "data=np.random.randn(10)"
   ]
  },
  {
   "cell_type": "code",
   "execution_count": 25,
   "metadata": {
    "collapsed": false
   },
   "outputs": [
    {
     "name": "stdout",
     "output_type": "stream",
     "text": [
      "[-1.63475376 -0.87706536 -0.07711007  0.19874222  0.20197432  0.21284648\n",
      "  0.68753392  1.37268372  1.94104556  2.01564524]\n"
     ]
    }
   ],
   "source": [
    "data.sort()\n",
    "print data"
   ]
  },
  {
   "cell_type": "code",
   "execution_count": 21,
   "metadata": {
    "collapsed": true
   },
   "outputs": [],
   "source": [
    "#これでもソートができる"
   ]
  },
  {
   "cell_type": "code",
   "execution_count": 22,
   "metadata": {
    "collapsed": false
   },
   "outputs": [
    {
     "data": {
      "text/plain": [
       "array([-1.63475376, -0.87706536, -0.07711007,  0.19874222,  0.20197432,\n",
       "        0.21284648,  0.68753392,  1.37268372,  1.94104556,  2.01564524])"
      ]
     },
     "execution_count": 22,
     "metadata": {},
     "output_type": "execute_result"
    }
   ],
   "source": [
    "np.sort(data)"
   ]
  },
  {
   "cell_type": "code",
   "execution_count": 24,
   "metadata": {
    "collapsed": false
   },
   "outputs": [
    {
     "name": "stdout",
     "output_type": "stream",
     "text": [
      "[ 2.01564524  1.94104556  1.37268372  0.68753392  0.21284648  0.20197432\n",
      "  0.19874222 -0.07711007 -0.87706536 -1.63475376]\n"
     ]
    }
   ],
   "source": [
    "data[::-1].sort()\n",
    "print data"
   ]
  },
  {
   "cell_type": "code",
   "execution_count": null,
   "metadata": {
    "collapsed": false
   },
   "outputs": [],
   "source": [
    "np.sort(data)[::-1]"
   ]
  },
  {
   "cell_type": "code",
   "execution_count": 22,
   "metadata": {
    "collapsed": true
   },
   "outputs": [],
   "source": [
    "xarr=np.array([1,2,3,4,5])"
   ]
  },
  {
   "cell_type": "code",
   "execution_count": 23,
   "metadata": {
    "collapsed": false
   },
   "outputs": [],
   "source": [
    "yarr=np.array([6,7,8,9,10])"
   ]
  },
  {
   "cell_type": "code",
   "execution_count": 25,
   "metadata": {
    "collapsed": false
   },
   "outputs": [],
   "source": [
    "cond=np.array([True,False,True,False,True])"
   ]
  },
  {
   "cell_type": "code",
   "execution_count": 32,
   "metadata": {
    "collapsed": false,
    "scrolled": false
   },
   "outputs": [
    {
     "data": {
      "text/plain": [
       "array([1, 7, 3, 9, 5])"
      ]
     },
     "execution_count": 32,
     "metadata": {},
     "output_type": "execute_result"
    }
   ],
   "source": [
    "np.where(cond,xarr,yarr)"
   ]
  },
  {
   "cell_type": "code",
   "execution_count": null,
   "metadata": {
    "collapsed": true
   },
   "outputs": [],
   "source": [
    "2つの配列があれば、if関数のようなことができる。"
   ]
  },
  {
   "cell_type": "code",
   "execution_count": 55,
   "metadata": {
    "collapsed": false
   },
   "outputs": [],
   "source": [
    "arr=np.random.randn(12).reshape(4,3)"
   ]
  },
  {
   "cell_type": "code",
   "execution_count": 56,
   "metadata": {
    "collapsed": false
   },
   "outputs": [
    {
     "data": {
      "text/plain": [
       "array([[ 0.17064502, -1.39680721,  0.84478854],\n",
       "       [-0.5571854 ,  0.31120331, -0.31862856],\n",
       "       [ 0.72536046, -0.50316589,  0.82451611],\n",
       "       [ 0.57974968, -0.71880407,  1.48095726]])"
      ]
     },
     "execution_count": 56,
     "metadata": {},
     "output_type": "execute_result"
    }
   ],
   "source": [
    "arr"
   ]
  },
  {
   "cell_type": "code",
   "execution_count": 57,
   "metadata": {
    "collapsed": false
   },
   "outputs": [
    {
     "data": {
      "text/plain": [
       "array([[ 2.        , -1.39680721,  2.        ],\n",
       "       [-0.5571854 ,  2.        , -0.31862856],\n",
       "       [ 2.        , -0.50316589,  2.        ],\n",
       "       [ 2.        , -0.71880407,  2.        ]])"
      ]
     },
     "execution_count": 57,
     "metadata": {},
     "output_type": "execute_result"
    }
   ],
   "source": [
    "np.where(arr>0,2,arr)"
   ]
  },
  {
   "cell_type": "code",
   "execution_count": 60,
   "metadata": {
    "collapsed": true
   },
   "outputs": [],
   "source": [
    "arr=np.arange(12).reshape(3,4)"
   ]
  },
  {
   "cell_type": "code",
   "execution_count": 61,
   "metadata": {
    "collapsed": false
   },
   "outputs": [
    {
     "data": {
      "text/plain": [
       "array([[ 0,  1,  2,  3],\n",
       "       [ 4,  5,  6,  7],\n",
       "       [ 8,  9, 10, 11]])"
      ]
     },
     "execution_count": 61,
     "metadata": {},
     "output_type": "execute_result"
    }
   ],
   "source": [
    "arr"
   ]
  },
  {
   "cell_type": "code",
   "execution_count": 62,
   "metadata": {
    "collapsed": false
   },
   "outputs": [
    {
     "data": {
      "text/plain": [
       "5.5"
      ]
     },
     "execution_count": 62,
     "metadata": {},
     "output_type": "execute_result"
    }
   ],
   "source": [
    "np.mean(arr)"
   ]
  },
  {
   "cell_type": "code",
   "execution_count": 63,
   "metadata": {
    "collapsed": false
   },
   "outputs": [
    {
     "data": {
      "text/plain": [
       "5.5"
      ]
     },
     "execution_count": 63,
     "metadata": {},
     "output_type": "execute_result"
    }
   ],
   "source": [
    "arr.mean()"
   ]
  },
  {
   "cell_type": "code",
   "execution_count": 3,
   "metadata": {
    "collapsed": false
   },
   "outputs": [],
   "source": [
    "arr=np.array([True,False])"
   ]
  },
  {
   "cell_type": "code",
   "execution_count": 4,
   "metadata": {
    "collapsed": false
   },
   "outputs": [
    {
     "data": {
      "text/plain": [
       "True"
      ]
     },
     "execution_count": 4,
     "metadata": {},
     "output_type": "execute_result"
    }
   ],
   "source": [
    "arr.any()"
   ]
  },
  {
   "cell_type": "code",
   "execution_count": 5,
   "metadata": {
    "collapsed": false
   },
   "outputs": [
    {
     "data": {
      "text/plain": [
       "False"
      ]
     },
     "execution_count": 5,
     "metadata": {},
     "output_type": "execute_result"
    }
   ],
   "source": [
    "arr.all()"
   ]
  },
  {
   "cell_type": "code",
   "execution_count": 6,
   "metadata": {
    "collapsed": true
   },
   "outputs": [],
   "source": [
    "arr=np.array([True,True])"
   ]
  },
  {
   "cell_type": "code",
   "execution_count": 7,
   "metadata": {
    "collapsed": false
   },
   "outputs": [
    {
     "data": {
      "text/plain": [
       "True"
      ]
     },
     "execution_count": 7,
     "metadata": {},
     "output_type": "execute_result"
    }
   ],
   "source": [
    "arr.any()"
   ]
  },
  {
   "cell_type": "code",
   "execution_count": 8,
   "metadata": {
    "collapsed": false
   },
   "outputs": [
    {
     "data": {
      "text/plain": [
       "True"
      ]
     },
     "execution_count": 8,
     "metadata": {},
     "output_type": "execute_result"
    }
   ],
   "source": [
    "arr.all()"
   ]
  },
  {
   "cell_type": "code",
   "execution_count": 9,
   "metadata": {
    "collapsed": true
   },
   "outputs": [],
   "source": [
    "arr=np.array([False,False])"
   ]
  },
  {
   "cell_type": "code",
   "execution_count": 10,
   "metadata": {
    "collapsed": false
   },
   "outputs": [
    {
     "data": {
      "text/plain": [
       "False"
      ]
     },
     "execution_count": 10,
     "metadata": {},
     "output_type": "execute_result"
    }
   ],
   "source": [
    "arr.any()"
   ]
  },
  {
   "cell_type": "code",
   "execution_count": 11,
   "metadata": {
    "collapsed": false
   },
   "outputs": [
    {
     "data": {
      "text/plain": [
       "False"
      ]
     },
     "execution_count": 11,
     "metadata": {},
     "output_type": "execute_result"
    }
   ],
   "source": [
    "arr.all()"
   ]
  },
  {
   "cell_type": "code",
   "execution_count": 12,
   "metadata": {
    "collapsed": true
   },
   "outputs": [],
   "source": [
    "arr=np.array([1,1,1,2,3,3])"
   ]
  },
  {
   "cell_type": "code",
   "execution_count": 13,
   "metadata": {
    "collapsed": false
   },
   "outputs": [
    {
     "data": {
      "text/plain": [
       "array([1, 2, 3])"
      ]
     },
     "execution_count": 13,
     "metadata": {},
     "output_type": "execute_result"
    }
   ],
   "source": [
    "np.unique(arr)"
   ]
  },
  {
   "cell_type": "code",
   "execution_count": null,
   "metadata": {
    "collapsed": true
   },
   "outputs": [],
   "source": [
    "■ファンシーインデックス"
   ]
  },
  {
   "cell_type": "code",
   "execution_count": 10,
   "metadata": {
    "collapsed": false
   },
   "outputs": [
    {
     "data": {
      "text/plain": [
       "array([[ 0,  1,  2,  3],\n",
       "       [ 4,  5,  6,  7],\n",
       "       [ 8,  9, 10, 11],\n",
       "       [12, 13, 14, 15],\n",
       "       [16, 17, 18, 19],\n",
       "       [20, 21, 22, 23]])"
      ]
     },
     "execution_count": 10,
     "metadata": {},
     "output_type": "execute_result"
    }
   ],
   "source": [
    "data=np.arange(24).reshape(6,4)\n",
    "data"
   ]
  },
  {
   "cell_type": "code",
   "execution_count": 17,
   "metadata": {
    "collapsed": false
   },
   "outputs": [
    {
     "data": {
      "text/plain": [
       "array([4, 5, 6, 7])"
      ]
     },
     "execution_count": 17,
     "metadata": {},
     "output_type": "execute_result"
    }
   ],
   "source": [
    "#これで1次元\n",
    "data[1]"
   ]
  },
  {
   "cell_type": "code",
   "execution_count": 19,
   "metadata": {
    "collapsed": false
   },
   "outputs": [
    {
     "data": {
      "text/plain": [
       "array([[ 4,  5,  6,  7],\n",
       "       [12, 13, 14, 15]])"
      ]
     },
     "execution_count": 19,
     "metadata": {},
     "output_type": "execute_result"
    }
   ],
   "source": [
    "#1次元を2つ。2行目と4行目\n",
    "data[[1,3]]"
   ]
  },
  {
   "cell_type": "code",
   "execution_count": 21,
   "metadata": {
    "collapsed": false
   },
   "outputs": [
    {
     "data": {
      "text/plain": [
       "7"
      ]
     },
     "execution_count": 21,
     "metadata": {},
     "output_type": "execute_result"
    }
   ],
   "source": [
    "#これだと1次元を2つじゃなく、2行目の4番目という意味\n",
    "data[1,3]"
   ]
  },
  {
   "cell_type": "code",
   "execution_count": 20,
   "metadata": {
    "collapsed": false
   },
   "outputs": [
    {
     "data": {
      "text/plain": [
       "array([7])"
      ]
     },
     "execution_count": 20,
     "metadata": {},
     "output_type": "execute_result"
    }
   ],
   "source": [
    "#2行目の4番目は、こうやっても書ける\n",
    "data[[1],[3]]"
   ]
  },
  {
   "cell_type": "code",
   "execution_count": 23,
   "metadata": {
    "collapsed": false
   },
   "outputs": [
    {
     "data": {
      "text/plain": [
       "array([ 4, 19])"
      ]
     },
     "execution_count": 23,
     "metadata": {},
     "output_type": "execute_result"
    }
   ],
   "source": [
    "#対になっている\n",
    "data[[1,4],[0,3]]"
   ]
  },
  {
   "cell_type": "code",
   "execution_count": 24,
   "metadata": {
    "collapsed": false
   },
   "outputs": [
    {
     "ename": "IndexError",
     "evalue": "shape mismatch: indexing arrays could not be broadcast together with shapes (2,) (3,) ",
     "output_type": "error",
     "traceback": [
      "\u001b[1;31m---------------------------------------------------------------------------\u001b[0m",
      "\u001b[1;31mIndexError\u001b[0m                                Traceback (most recent call last)",
      "\u001b[1;32m<ipython-input-24-fcd38c804789>\u001b[0m in \u001b[0;36m<module>\u001b[1;34m()\u001b[0m\n\u001b[0;32m      1\u001b[0m \u001b[1;31m#対になっている\u001b[0m\u001b[1;33m\u001b[0m\u001b[1;33m\u001b[0m\u001b[0m\n\u001b[1;32m----> 2\u001b[1;33m \u001b[0mdata\u001b[0m\u001b[1;33m[\u001b[0m\u001b[1;33m[\u001b[0m\u001b[1;36m1\u001b[0m\u001b[1;33m,\u001b[0m\u001b[1;36m4\u001b[0m\u001b[1;33m]\u001b[0m\u001b[1;33m,\u001b[0m\u001b[1;33m[\u001b[0m\u001b[1;36m0\u001b[0m\u001b[1;33m,\u001b[0m\u001b[1;36m3\u001b[0m\u001b[1;33m,\u001b[0m\u001b[1;36m1\u001b[0m\u001b[1;33m]\u001b[0m\u001b[1;33m]\u001b[0m\u001b[1;33m\u001b[0m\u001b[0m\n\u001b[0m",
      "\u001b[1;31mIndexError\u001b[0m: shape mismatch: indexing arrays could not be broadcast together with shapes (2,) (3,) "
     ]
    }
   ],
   "source": [
    "#対になっているので、エラーになる\n",
    "data[[1,4],[0,3,1]]"
   ]
  },
  {
   "cell_type": "code",
   "execution_count": 33,
   "metadata": {
    "collapsed": false
   },
   "outputs": [
    {
     "name": "stdout",
     "output_type": "stream",
     "text": [
      "[[-1.58502419 -0.08750534  0.2424771 ]\n",
      " [ 0.19694195  0.22901211  0.38785624]\n",
      " [ 0.76346931  1.93834705 -1.62271029]\n",
      " [-0.78260724 -0.04858086  1.51557515]]\n"
     ]
    }
   ],
   "source": [
    "data1=np.random.randn(12).reshape(4,3)\n",
    "print data1"
   ]
  },
  {
   "cell_type": "code",
   "execution_count": 34,
   "metadata": {
    "collapsed": false
   },
   "outputs": [
    {
     "name": "stdout",
     "output_type": "stream",
     "text": [
      "[[-1.09529721  0.4347704  -0.37167575  0.31574051 -1.00843905]\n",
      " [ 0.33428951 -0.61787001 -0.89804524 -1.10212213 -0.18025446]\n",
      " [-0.11148414 -0.75787689  0.25313831 -1.26819151  0.86519957]]\n"
     ]
    }
   ],
   "source": [
    "data2=np.random.randn(15).reshape(3,5)\n",
    "print data2"
   ]
  },
  {
   "cell_type": "code",
   "execution_count": 36,
   "metadata": {
    "collapsed": false
   },
   "outputs": [
    {
     "data": {
      "text/plain": [
       "[array([[-1.58502419, -0.08750534,  0.2424771 ,  0.19694195,  0.22901211,\n",
       "          0.38785624,  0.76346931,  1.93834705, -1.62271029, -0.78260724,\n",
       "         -0.04858086,  1.51557515],\n",
       "        [-1.58502419, -0.08750534,  0.2424771 ,  0.19694195,  0.22901211,\n",
       "          0.38785624,  0.76346931,  1.93834705, -1.62271029, -0.78260724,\n",
       "         -0.04858086,  1.51557515],\n",
       "        [-1.58502419, -0.08750534,  0.2424771 ,  0.19694195,  0.22901211,\n",
       "          0.38785624,  0.76346931,  1.93834705, -1.62271029, -0.78260724,\n",
       "         -0.04858086,  1.51557515],\n",
       "        [-1.58502419, -0.08750534,  0.2424771 ,  0.19694195,  0.22901211,\n",
       "          0.38785624,  0.76346931,  1.93834705, -1.62271029, -0.78260724,\n",
       "         -0.04858086,  1.51557515],\n",
       "        [-1.58502419, -0.08750534,  0.2424771 ,  0.19694195,  0.22901211,\n",
       "          0.38785624,  0.76346931,  1.93834705, -1.62271029, -0.78260724,\n",
       "         -0.04858086,  1.51557515],\n",
       "        [-1.58502419, -0.08750534,  0.2424771 ,  0.19694195,  0.22901211,\n",
       "          0.38785624,  0.76346931,  1.93834705, -1.62271029, -0.78260724,\n",
       "         -0.04858086,  1.51557515],\n",
       "        [-1.58502419, -0.08750534,  0.2424771 ,  0.19694195,  0.22901211,\n",
       "          0.38785624,  0.76346931,  1.93834705, -1.62271029, -0.78260724,\n",
       "         -0.04858086,  1.51557515],\n",
       "        [-1.58502419, -0.08750534,  0.2424771 ,  0.19694195,  0.22901211,\n",
       "          0.38785624,  0.76346931,  1.93834705, -1.62271029, -0.78260724,\n",
       "         -0.04858086,  1.51557515],\n",
       "        [-1.58502419, -0.08750534,  0.2424771 ,  0.19694195,  0.22901211,\n",
       "          0.38785624,  0.76346931,  1.93834705, -1.62271029, -0.78260724,\n",
       "         -0.04858086,  1.51557515],\n",
       "        [-1.58502419, -0.08750534,  0.2424771 ,  0.19694195,  0.22901211,\n",
       "          0.38785624,  0.76346931,  1.93834705, -1.62271029, -0.78260724,\n",
       "         -0.04858086,  1.51557515],\n",
       "        [-1.58502419, -0.08750534,  0.2424771 ,  0.19694195,  0.22901211,\n",
       "          0.38785624,  0.76346931,  1.93834705, -1.62271029, -0.78260724,\n",
       "         -0.04858086,  1.51557515],\n",
       "        [-1.58502419, -0.08750534,  0.2424771 ,  0.19694195,  0.22901211,\n",
       "          0.38785624,  0.76346931,  1.93834705, -1.62271029, -0.78260724,\n",
       "         -0.04858086,  1.51557515],\n",
       "        [-1.58502419, -0.08750534,  0.2424771 ,  0.19694195,  0.22901211,\n",
       "          0.38785624,  0.76346931,  1.93834705, -1.62271029, -0.78260724,\n",
       "         -0.04858086,  1.51557515],\n",
       "        [-1.58502419, -0.08750534,  0.2424771 ,  0.19694195,  0.22901211,\n",
       "          0.38785624,  0.76346931,  1.93834705, -1.62271029, -0.78260724,\n",
       "         -0.04858086,  1.51557515],\n",
       "        [-1.58502419, -0.08750534,  0.2424771 ,  0.19694195,  0.22901211,\n",
       "          0.38785624,  0.76346931,  1.93834705, -1.62271029, -0.78260724,\n",
       "         -0.04858086,  1.51557515]]),\n",
       " array([[-1.09529721, -1.09529721, -1.09529721, -1.09529721, -1.09529721,\n",
       "         -1.09529721, -1.09529721, -1.09529721, -1.09529721, -1.09529721,\n",
       "         -1.09529721, -1.09529721],\n",
       "        [ 0.4347704 ,  0.4347704 ,  0.4347704 ,  0.4347704 ,  0.4347704 ,\n",
       "          0.4347704 ,  0.4347704 ,  0.4347704 ,  0.4347704 ,  0.4347704 ,\n",
       "          0.4347704 ,  0.4347704 ],\n",
       "        [-0.37167575, -0.37167575, -0.37167575, -0.37167575, -0.37167575,\n",
       "         -0.37167575, -0.37167575, -0.37167575, -0.37167575, -0.37167575,\n",
       "         -0.37167575, -0.37167575],\n",
       "        [ 0.31574051,  0.31574051,  0.31574051,  0.31574051,  0.31574051,\n",
       "          0.31574051,  0.31574051,  0.31574051,  0.31574051,  0.31574051,\n",
       "          0.31574051,  0.31574051],\n",
       "        [-1.00843905, -1.00843905, -1.00843905, -1.00843905, -1.00843905,\n",
       "         -1.00843905, -1.00843905, -1.00843905, -1.00843905, -1.00843905,\n",
       "         -1.00843905, -1.00843905],\n",
       "        [ 0.33428951,  0.33428951,  0.33428951,  0.33428951,  0.33428951,\n",
       "          0.33428951,  0.33428951,  0.33428951,  0.33428951,  0.33428951,\n",
       "          0.33428951,  0.33428951],\n",
       "        [-0.61787001, -0.61787001, -0.61787001, -0.61787001, -0.61787001,\n",
       "         -0.61787001, -0.61787001, -0.61787001, -0.61787001, -0.61787001,\n",
       "         -0.61787001, -0.61787001],\n",
       "        [-0.89804524, -0.89804524, -0.89804524, -0.89804524, -0.89804524,\n",
       "         -0.89804524, -0.89804524, -0.89804524, -0.89804524, -0.89804524,\n",
       "         -0.89804524, -0.89804524],\n",
       "        [-1.10212213, -1.10212213, -1.10212213, -1.10212213, -1.10212213,\n",
       "         -1.10212213, -1.10212213, -1.10212213, -1.10212213, -1.10212213,\n",
       "         -1.10212213, -1.10212213],\n",
       "        [-0.18025446, -0.18025446, -0.18025446, -0.18025446, -0.18025446,\n",
       "         -0.18025446, -0.18025446, -0.18025446, -0.18025446, -0.18025446,\n",
       "         -0.18025446, -0.18025446],\n",
       "        [-0.11148414, -0.11148414, -0.11148414, -0.11148414, -0.11148414,\n",
       "         -0.11148414, -0.11148414, -0.11148414, -0.11148414, -0.11148414,\n",
       "         -0.11148414, -0.11148414],\n",
       "        [-0.75787689, -0.75787689, -0.75787689, -0.75787689, -0.75787689,\n",
       "         -0.75787689, -0.75787689, -0.75787689, -0.75787689, -0.75787689,\n",
       "         -0.75787689, -0.75787689],\n",
       "        [ 0.25313831,  0.25313831,  0.25313831,  0.25313831,  0.25313831,\n",
       "          0.25313831,  0.25313831,  0.25313831,  0.25313831,  0.25313831,\n",
       "          0.25313831,  0.25313831],\n",
       "        [-1.26819151, -1.26819151, -1.26819151, -1.26819151, -1.26819151,\n",
       "         -1.26819151, -1.26819151, -1.26819151, -1.26819151, -1.26819151,\n",
       "         -1.26819151, -1.26819151],\n",
       "        [ 0.86519957,  0.86519957,  0.86519957,  0.86519957,  0.86519957,\n",
       "          0.86519957,  0.86519957,  0.86519957,  0.86519957,  0.86519957,\n",
       "          0.86519957,  0.86519957]])]"
      ]
     },
     "execution_count": 36,
     "metadata": {},
     "output_type": "execute_result"
    }
   ],
   "source": [
    "np.meshgrid(data1,data2)"
   ]
  },
  {
   "cell_type": "code",
   "execution_count": 22,
   "metadata": {
    "collapsed": true
   },
   "outputs": [],
   "source": [
    "arr=np.array([1,1,1,1,2,3,3,3,4,4,5])"
   ]
  },
  {
   "cell_type": "code",
   "execution_count": 24,
   "metadata": {
    "collapsed": false
   },
   "outputs": [
    {
     "data": {
      "text/plain": [
       "array([1, 2, 3, 4, 5])"
      ]
     },
     "execution_count": 24,
     "metadata": {},
     "output_type": "execute_result"
    }
   ],
   "source": [
    "np.unique(arr)"
   ]
  },
  {
   "cell_type": "code",
   "execution_count": 25,
   "metadata": {
    "collapsed": true
   },
   "outputs": [],
   "source": [
    "arr=np.arange(10)"
   ]
  },
  {
   "cell_type": "code",
   "execution_count": 27,
   "metadata": {
    "collapsed": false
   },
   "outputs": [],
   "source": [
    "np.save('some_array',arr)"
   ]
  },
  {
   "cell_type": "code",
   "execution_count": 28,
   "metadata": {
    "collapsed": false
   },
   "outputs": [
    {
     "data": {
      "text/plain": [
       "array([0, 1, 2, 3, 4, 5, 6, 7, 8, 9])"
      ]
     },
     "execution_count": 28,
     "metadata": {},
     "output_type": "execute_result"
    }
   ],
   "source": [
    "np.load('some_array.npy')"
   ]
  },
  {
   "cell_type": "code",
   "execution_count": null,
   "metadata": {
    "collapsed": true
   },
   "outputs": [],
   "source": []
  }
 ],
 "metadata": {
  "kernelspec": {
   "display_name": "Python 2",
   "language": "python",
   "name": "python2"
  },
  "language_info": {
   "codemirror_mode": {
    "name": "ipython",
    "version": 2
   },
   "file_extension": ".py",
   "mimetype": "text/x-python",
   "name": "python",
   "nbconvert_exporter": "python",
   "pygments_lexer": "ipython2",
   "version": "2.7.11"
  }
 },
 "nbformat": 4,
 "nbformat_minor": 0
}
