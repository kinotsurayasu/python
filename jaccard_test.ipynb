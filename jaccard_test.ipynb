{
 "cells": [
  {
   "cell_type": "code",
   "execution_count": 11,
   "metadata": {
    "collapsed": false
   },
   "outputs": [],
   "source": [
    "import pandas as pd\n",
    "import numpy as np\n",
    "from scipy import sparse\n",
    "from numba.decorators import jit,autojit\n",
    "from scipy.spatial.distance import jaccard\n",
    "from scipy.spatial.distance import cosine\n",
    "from scipy.spatial.distance import squareform\n",
    "from scipy.spatial.distance import pdist"
   ]
  },
  {
   "cell_type": "code",
   "execution_count": 12,
   "metadata": {
    "collapsed": false
   },
   "outputs": [
    {
     "data": {
      "text/html": [
       "<div>\n",
       "<table border=\"1\" class=\"dataframe\">\n",
       "  <thead>\n",
       "    <tr style=\"text-align: right;\">\n",
       "      <th></th>\n",
       "      <th>USER_ID</th>\n",
       "      <th>ITEM_ID</th>\n",
       "      <th>CATEGORY</th>\n",
       "    </tr>\n",
       "  </thead>\n",
       "  <tbody>\n",
       "    <tr>\n",
       "      <th>1</th>\n",
       "      <td>A</td>\n",
       "      <td>a</td>\n",
       "      <td>ズボン</td>\n",
       "    </tr>\n",
       "    <tr>\n",
       "      <th>2</th>\n",
       "      <td>A</td>\n",
       "      <td>c</td>\n",
       "      <td>シャツ</td>\n",
       "    </tr>\n",
       "    <tr>\n",
       "      <th>3</th>\n",
       "      <td>A</td>\n",
       "      <td>e</td>\n",
       "      <td>スカート</td>\n",
       "    </tr>\n",
       "    <tr>\n",
       "      <th>4</th>\n",
       "      <td>A</td>\n",
       "      <td>b</td>\n",
       "      <td>スニーカー</td>\n",
       "    </tr>\n",
       "    <tr>\n",
       "      <th>5</th>\n",
       "      <td>A</td>\n",
       "      <td>d</td>\n",
       "      <td>アウター</td>\n",
       "    </tr>\n",
       "  </tbody>\n",
       "</table>\n",
       "</div>"
      ],
      "text/plain": [
       "  USER_ID ITEM_ID CATEGORY\n",
       "1       A       a      ズボン\n",
       "2       A       c      シャツ\n",
       "3       A       e     スカート\n",
       "4       A       b    スニーカー\n",
       "5       A       d     アウター"
      ]
     },
     "execution_count": 12,
     "metadata": {},
     "output_type": "execute_result"
    }
   ],
   "source": [
    "df=pd.read_csv('sample.csv',encoding='shift-jis',index_col=0)\n",
    "df.head()"
   ]
  },
  {
   "cell_type": "code",
   "execution_count": 13,
   "metadata": {
    "collapsed": false
   },
   "outputs": [
    {
     "data": {
      "text/plain": [
       "CATEGORY\n",
       "アウター     4\n",
       "シャツ      2\n",
       "スカート     2\n",
       "スニーカー    3\n",
       "ズボン      5\n",
       "Name: CATEGORY, dtype: int64"
      ]
     },
     "execution_count": 13,
     "metadata": {},
     "output_type": "execute_result"
    }
   ],
   "source": [
    "df.groupby('CATEGORY')['CATEGORY'].count()"
   ]
  },
  {
   "cell_type": "markdown",
   "metadata": {},
   "source": [
    "▼jaccardで計算パターン"
   ]
  },
  {
   "cell_type": "code",
   "execution_count": 8,
   "metadata": {
    "collapsed": false
   },
   "outputs": [
    {
     "name": "stdout",
     "output_type": "stream",
     "text": [
      "[[ 1.  1.  2.  1.]\n",
      " [ 1.  1.  0.  0.]]\n",
      "[[ 0.  1.  0.]\n",
      " [ 1.  0.  1.]]\n",
      "[[1 1]]\n",
      "[[1 1 1 1]]\n",
      "time = 0.085416\n"
     ]
    }
   ],
   "source": [
    "import time\n",
    "start_time = time.clock()\n",
    "result={}\n",
    "#カテゴリをユニークにする\n",
    "item=df['CATEGORY'].unique()\n",
    "\n",
    "#カテゴリごとに抽出し、処理\n",
    "for category in item:\n",
    "    df1=df[df['CATEGORY']==category]#カテゴリで抽出\n",
    "    df1=df1.pivot_table('CATEGORY',index='ITEM_ID',columns='USER_ID',aggfunc='count')#ピボットで集約\n",
    "    df1=df1.fillna(0)#NAを０で埋めて０１のデータにする\n",
    "    x=np.array(df1)#多次元のarrayに変換\n",
    "\n",
    "    print(x)\n",
    "    \n",
    "    # 行ごと（=つまりアイテムごと）の距離を計算する\n",
    "    d = pdist(x, 'jaccard')\n",
    "    # 「類似度 = 1 - 距離」\n",
    "    d = 1 - d\n",
    "\n",
    "    d = squareform(d)\n",
    "\n",
    "\n",
    "    # 自分自身は対象外にしたいので、優先度を下げる\n",
    "    me = np.eye(d.shape[0])\n",
    "    d = d - me\n",
    "\n",
    "    # 類似度の高い順に5つ推薦対象とする\n",
    "    for idx in range(x.shape[0]):\n",
    "        item1_sim = d[:,idx]\n",
    "        # print(item1_sim)\n",
    "        item1_rel = []\n",
    "        for i in range(item1_sim.shape[0]):\n",
    "            item1_rel.append((df1.index[i], item1_sim[i]))\n",
    "        item1_rel = sorted(item1_rel, key=lambda d:d[1], reverse=True)\n",
    "        # 5件に絞る\n",
    "        item1_rel = item1_rel[:5]\n",
    "        result[df1.index[idx]] = item1_rel\n",
    "\n",
    "    resultlist = category + \"result.csv\"\n",
    "    results = pd.DataFrame(result)\n",
    "    results.to_csv(resultlist)\n",
    "    result={}\n",
    "\n",
    "end_time = time.clock()\n",
    "print (\"time = %f\" %(end_time-start_time))"
   ]
  },
  {
   "cell_type": "code",
   "execution_count": null,
   "metadata": {
    "collapsed": true
   },
   "outputs": [],
   "source": []
  },
  {
   "cell_type": "code",
   "execution_count": null,
   "metadata": {
    "collapsed": true
   },
   "outputs": [],
   "source": []
  }
 ],
 "metadata": {
  "kernelspec": {
   "display_name": "Python 3",
   "language": "python",
   "name": "python3"
  },
  "language_info": {
   "codemirror_mode": {
    "name": "ipython",
    "version": 3
   },
   "file_extension": ".py",
   "mimetype": "text/x-python",
   "name": "python",
   "nbconvert_exporter": "python",
   "pygments_lexer": "ipython3",
   "version": "3.5.1"
  }
 },
 "nbformat": 4,
 "nbformat_minor": 0
}
